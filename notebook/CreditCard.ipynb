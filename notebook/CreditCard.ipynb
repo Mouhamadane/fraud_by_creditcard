{
 "cells": [
  {
   "cell_type": "code",
   "execution_count": 7,
   "metadata": {},
   "outputs": [],
   "source": [
    "import matplotlib.pyplot as plt\n",
    "import seaborn as sns\n",
    "import numpy as np\n",
    "%matplotlib inline\n",
    "# ignorer les FuturWarnings\n",
    "import warnings\n",
    "warnings.simplefilter(action='ignore', category=FutureWarning)"
   ]
  },
  {
   "cell_type": "code",
   "execution_count": 8,
   "metadata": {},
   "outputs": [],
   "source": [
    "import os\n",
    "from creditcard_mod import helpers"
   ]
  },
  {
   "cell_type": "code",
   "execution_count": 12,
   "metadata": {},
   "outputs": [
    {
     "data": {
      "text/html": [
       "<div>\n",
       "<style scoped>\n",
       "    .dataframe tbody tr th:only-of-type {\n",
       "        vertical-align: middle;\n",
       "    }\n",
       "\n",
       "    .dataframe tbody tr th {\n",
       "        vertical-align: top;\n",
       "    }\n",
       "\n",
       "    .dataframe thead th {\n",
       "        text-align: right;\n",
       "    }\n",
       "</style>\n",
       "<table border=\"1\" class=\"dataframe\">\n",
       "  <thead>\n",
       "    <tr style=\"text-align: right;\">\n",
       "      <th></th>\n",
       "      <th>step</th>\n",
       "      <th>customer</th>\n",
       "      <th>age</th>\n",
       "      <th>gender</th>\n",
       "      <th>zipcodeOri</th>\n",
       "      <th>merchant</th>\n",
       "      <th>zipMerchant</th>\n",
       "      <th>category</th>\n",
       "      <th>amount</th>\n",
       "      <th>fraud</th>\n",
       "    </tr>\n",
       "  </thead>\n",
       "  <tbody>\n",
       "    <tr>\n",
       "      <th>0</th>\n",
       "      <td>0</td>\n",
       "      <td>1093826151</td>\n",
       "      <td>4</td>\n",
       "      <td>M</td>\n",
       "      <td>'28007'</td>\n",
       "      <td>348934600</td>\n",
       "      <td>'28007'</td>\n",
       "      <td>transportation</td>\n",
       "      <td>4.55</td>\n",
       "      <td>0</td>\n",
       "    </tr>\n",
       "    <tr>\n",
       "      <th>1</th>\n",
       "      <td>0</td>\n",
       "      <td>352968107</td>\n",
       "      <td>2</td>\n",
       "      <td>M</td>\n",
       "      <td>'28007'</td>\n",
       "      <td>348934600</td>\n",
       "      <td>'28007'</td>\n",
       "      <td>transportation</td>\n",
       "      <td>39.68</td>\n",
       "      <td>0</td>\n",
       "    </tr>\n",
       "  </tbody>\n",
       "</table>\n",
       "</div>"
      ],
      "text/plain": [
       "   step    customer age gender zipcodeOri   merchant zipMerchant  \\\n",
       "0     0  1093826151   4      M    '28007'  348934600     '28007'   \n",
       "1     0   352968107   2      M    '28007'  348934600     '28007'   \n",
       "\n",
       "         category  amount  fraud  \n",
       "0  transportation    4.55      0  \n",
       "1  transportation   39.68      0  "
      ]
     },
     "execution_count": 12,
     "metadata": {},
     "output_type": "execute_result"
    }
   ],
   "source": [
    "for i,row in df.iterrows():\n",
    "    df.at[i,'category'] = row.category[4:-1]\n",
    "    df.at[i,'merchant'] = row.merchant[2:-1]\n",
    "    df.at[i,'customer'] = row.customer[2:-1]\n",
    "    df.at[i,'age']      = row.age[1:-1]\n",
    "    df.at[i,'gender']   = row.gender[1:-1]\n",
    "df.head(2)"
   ]
  },
  {
   "cell_type": "code",
   "execution_count": 4,
   "metadata": {},
   "outputs": [
    {
     "data": {
      "text/html": [
       "<div>\n",
       "<style scoped>\n",
       "    .dataframe tbody tr th:only-of-type {\n",
       "        vertical-align: middle;\n",
       "    }\n",
       "\n",
       "    .dataframe tbody tr th {\n",
       "        vertical-align: top;\n",
       "    }\n",
       "\n",
       "    .dataframe thead th {\n",
       "        text-align: right;\n",
       "    }\n",
       "</style>\n",
       "<table border=\"1\" class=\"dataframe\">\n",
       "  <thead>\n",
       "    <tr style=\"text-align: right;\">\n",
       "      <th></th>\n",
       "      <th>step</th>\n",
       "      <th>customer</th>\n",
       "      <th>age</th>\n",
       "      <th>gender</th>\n",
       "      <th>zipcodeOri</th>\n",
       "      <th>merchant</th>\n",
       "      <th>zipMerchant</th>\n",
       "      <th>category</th>\n",
       "      <th>amount</th>\n",
       "      <th>fraud</th>\n",
       "    </tr>\n",
       "  </thead>\n",
       "  <tbody>\n",
       "    <tr>\n",
       "      <th>0</th>\n",
       "      <td>0</td>\n",
       "      <td>1093826151</td>\n",
       "      <td>4</td>\n",
       "      <td>M</td>\n",
       "      <td>'28007'</td>\n",
       "      <td>348934600</td>\n",
       "      <td>'28007'</td>\n",
       "      <td>transportation</td>\n",
       "      <td>4.55</td>\n",
       "      <td>0</td>\n",
       "    </tr>\n",
       "    <tr>\n",
       "      <th>1</th>\n",
       "      <td>0</td>\n",
       "      <td>352968107</td>\n",
       "      <td>2</td>\n",
       "      <td>M</td>\n",
       "      <td>'28007'</td>\n",
       "      <td>348934600</td>\n",
       "      <td>'28007'</td>\n",
       "      <td>transportation</td>\n",
       "      <td>39.68</td>\n",
       "      <td>0</td>\n",
       "    </tr>\n",
       "    <tr>\n",
       "      <th>2</th>\n",
       "      <td>0</td>\n",
       "      <td>2054744914</td>\n",
       "      <td>4</td>\n",
       "      <td>F</td>\n",
       "      <td>'28007'</td>\n",
       "      <td>1823072687</td>\n",
       "      <td>'28007'</td>\n",
       "      <td>transportation</td>\n",
       "      <td>26.89</td>\n",
       "      <td>0</td>\n",
       "    </tr>\n",
       "  </tbody>\n",
       "</table>\n",
       "</div>"
      ],
      "text/plain": [
       "   step    customer age gender zipcodeOri    merchant zipMerchant  \\\n",
       "0     0  1093826151   4      M    '28007'   348934600     '28007'   \n",
       "1     0   352968107   2      M    '28007'   348934600     '28007'   \n",
       "2     0  2054744914   4      F    '28007'  1823072687     '28007'   \n",
       "\n",
       "         category  amount  fraud  \n",
       "0  transportation    4.55      0  \n",
       "1  transportation   39.68      0  \n",
       "2  transportation   26.89      0  "
      ]
     },
     "execution_count": 4,
     "metadata": {},
     "output_type": "execute_result"
    }
   ],
   "source": [
    "#dataset\n",
    "df = helpers.load_csv(\"../datasets/data.csv\")\n",
    "df.head(3)"
   ]
  },
  {
   "cell_type": "code",
   "execution_count": 13,
   "metadata": {},
   "outputs": [],
   "source": [
    "df.to_csv(r'../datasets/data.csv', sep=\",\", index=False)"
   ]
  },
  {
   "cell_type": "markdown",
   "metadata": {},
   "source": [
    "Les colonnes suivantes composent le dataset:\n",
    "* **step** - represents the day when the transaction happened. There is a total of 180 steps, so the data runs for six months.\n",
    "* **customer** - represents the unique ID of the person who initialized the transaction. It is formed by the letter C, followed by a unique sequence of 10 numbers. There is a total of 4,109 unique customers available in the dataset.\n",
    "* **age** - this variable is split in age intervals, starting from 0 to 6 and the letter U which stands for Unknown. Age is Unknown only for transactions that have the gender equal to Enterprise.\n",
    "* **gender** - this variable is coded as F for Female, M for Male, E for Enterprise and U for Unknown.\n",
    "* **zipcodeOri** and **zipMerchant** - they contained a constant value of 28007, which is a postal code in Ansonville, North Carolina, United States. Therefore, the amount will be from now on expressed in us dollars.\n",
    "* **category** - there are 15 unique categories that label the general type of the transaction: transportation, food, health, wellness and beauty, fashion, bars and restaurant, hyper, sports and toys, tech, home, hotel services, other services, contents, travel, leisure.\n",
    "* **amount** - represents the value of the transaction. There are only 52 values equal to 0 and no negative values.\n",
    "* **fraud** - a flag column coded with 0 if the transaction was clean and with 1 if the transaction was fraudulent."
   ]
  },
  {
   "cell_type": "code",
   "execution_count": null,
   "metadata": {},
   "outputs": [],
   "source": []
  },
  {
   "cell_type": "code",
   "execution_count": 4,
   "metadata": {},
   "outputs": [
    {
     "data": {
      "text/plain": [
       "(594643, 10)"
      ]
     },
     "execution_count": 4,
     "metadata": {},
     "output_type": "execute_result"
    }
   ],
   "source": [
    "df.shape"
   ]
  },
  {
   "cell_type": "code",
   "execution_count": 5,
   "metadata": {},
   "outputs": [
    {
     "data": {
      "text/plain": [
       "False"
      ]
     },
     "execution_count": 5,
     "metadata": {},
     "output_type": "execute_result"
    }
   ],
   "source": [
    "df.isnull().values.any()"
   ]
  },
  {
   "cell_type": "markdown",
   "metadata": {},
   "source": [
    "La base de données contient **594 643** observations et **10** variables. Toutes les valeurs sont numériques et il n'y a pas de données manquantes. La variable à expliquer **fraud** représente le type de transaction et prend deux modalités **1** pour **Fraud** et **0** **Non Fraud**."
   ]
  },
  {
   "cell_type": "code",
   "execution_count": 15,
   "metadata": {},
   "outputs": [
    {
     "name": "stdout",
     "output_type": "stream",
     "text": [
      "unique merchants: 50\n",
      "unique age: 8\n",
      "unique gender: 4\n",
      "unique zipCode Origin: 1\n",
      "unique zipCode Merchant: 1\n",
      "unique category: 15\n",
      "unique amount: 23767\n",
      "unique fraud: 2\n"
     ]
    }
   ],
   "source": [
    "print(f\"unique merchants: {df.merchant.nunique()}\")\n",
    "print(f\"unique age: {df.age.nunique()}\")\n",
    "print(f\"unique gender: {df.gender.nunique()}\")\n",
    "print(f\"unique zipCode Origin: {df.zipcodeOri.nunique()}\")\n",
    "print(f\"unique zipCode Merchant: {df.zipMerchant.nunique()}\")\n",
    "print(f\"unique category: {df.category.nunique()}\")\n",
    "print(f\"unique amount: {df.amount.nunique()}\")\n",
    "print(f\"unique fraud: {df.fraud.nunique()}\")"
   ]
  },
  {
   "cell_type": "code",
   "execution_count": 7,
   "metadata": {},
   "outputs": [
    {
     "name": "stdout",
     "output_type": "stream",
     "text": [
      "<class 'pandas.core.frame.DataFrame'>\n",
      "RangeIndex: 594643 entries, 0 to 594642\n",
      "Data columns (total 10 columns):\n",
      " #   Column       Non-Null Count   Dtype  \n",
      "---  ------       --------------   -----  \n",
      " 0   step         594643 non-null  int64  \n",
      " 1   customer     594643 non-null  object \n",
      " 2   age          594643 non-null  object \n",
      " 3   gender       594643 non-null  object \n",
      " 4   zipcodeOri   594643 non-null  object \n",
      " 5   merchant     594643 non-null  object \n",
      " 6   zipMerchant  594643 non-null  object \n",
      " 7   category     594643 non-null  object \n",
      " 8   amount       594643 non-null  float64\n",
      " 9   fraud        594643 non-null  int64  \n",
      "dtypes: float64(1), int64(2), object(7)\n",
      "memory usage: 45.4+ MB\n"
     ]
    }
   ],
   "source": [
    "df1.info()"
   ]
  },
  {
   "cell_type": "code",
   "execution_count": null,
   "metadata": {},
   "outputs": [],
   "source": []
  },
  {
   "cell_type": "code",
   "execution_count": 14,
   "metadata": {},
   "outputs": [
    {
     "data": {
      "text/html": [
       "<div>\n",
       "<style scoped>\n",
       "    .dataframe tbody tr th:only-of-type {\n",
       "        vertical-align: middle;\n",
       "    }\n",
       "\n",
       "    .dataframe tbody tr th {\n",
       "        vertical-align: top;\n",
       "    }\n",
       "\n",
       "    .dataframe thead th {\n",
       "        text-align: right;\n",
       "    }\n",
       "</style>\n",
       "<table border=\"1\" class=\"dataframe\">\n",
       "  <thead>\n",
       "    <tr style=\"text-align: right;\">\n",
       "      <th></th>\n",
       "      <th>count</th>\n",
       "      <th>mean</th>\n",
       "      <th>std</th>\n",
       "      <th>min</th>\n",
       "      <th>25%</th>\n",
       "      <th>50%</th>\n",
       "      <th>75%</th>\n",
       "      <th>max</th>\n",
       "    </tr>\n",
       "  </thead>\n",
       "  <tbody>\n",
       "    <tr>\n",
       "      <th>step</th>\n",
       "      <td>594643.0</td>\n",
       "      <td>94.986827</td>\n",
       "      <td>51.053632</td>\n",
       "      <td>0.0</td>\n",
       "      <td>52.00</td>\n",
       "      <td>97.0</td>\n",
       "      <td>139.00</td>\n",
       "      <td>179.00</td>\n",
       "    </tr>\n",
       "    <tr>\n",
       "      <th>amount</th>\n",
       "      <td>594643.0</td>\n",
       "      <td>37.890135</td>\n",
       "      <td>111.402831</td>\n",
       "      <td>0.0</td>\n",
       "      <td>13.74</td>\n",
       "      <td>26.9</td>\n",
       "      <td>42.54</td>\n",
       "      <td>8329.96</td>\n",
       "    </tr>\n",
       "    <tr>\n",
       "      <th>fraud</th>\n",
       "      <td>594643.0</td>\n",
       "      <td>0.012108</td>\n",
       "      <td>0.109369</td>\n",
       "      <td>0.0</td>\n",
       "      <td>0.00</td>\n",
       "      <td>0.0</td>\n",
       "      <td>0.00</td>\n",
       "      <td>1.00</td>\n",
       "    </tr>\n",
       "  </tbody>\n",
       "</table>\n",
       "</div>"
      ],
      "text/plain": [
       "           count       mean         std  min    25%   50%     75%      max\n",
       "step    594643.0  94.986827   51.053632  0.0  52.00  97.0  139.00   179.00\n",
       "amount  594643.0  37.890135  111.402831  0.0  13.74  26.9   42.54  8329.96\n",
       "fraud   594643.0   0.012108    0.109369  0.0   0.00   0.0    0.00     1.00"
      ]
     },
     "execution_count": 14,
     "metadata": {},
     "output_type": "execute_result"
    }
   ],
   "source": [
    "df.describe().T"
   ]
  },
  {
   "cell_type": "markdown",
   "metadata": {},
   "source": [
    "# **DATA ANALYSIS **"
   ]
  },
  {
   "cell_type": "code",
   "execution_count": 15,
   "metadata": {},
   "outputs": [
    {
     "data": {
      "text/plain": [
       "0    98.789189\n",
       "1     1.210811\n",
       "Name: fraud, dtype: float64"
      ]
     },
     "execution_count": 15,
     "metadata": {},
     "output_type": "execute_result"
    }
   ],
   "source": [
    "df[\"fraud\"].value_counts(normalize=True)*100"
   ]
  },
  {
   "cell_type": "markdown",
   "metadata": {},
   "source": [
    "En observant la répartition des types de transactions, on constate que **587 443** transactions sont non frauduleuses soit **98,78%** contre **7200** transactions frauduleuses soit **1,21%**."
   ]
  },
  {
   "cell_type": "code",
   "execution_count": 52,
   "metadata": {},
   "outputs": [
    {
     "data": {
      "text/plain": [
       "transportation        84.944917\n",
       "food                   4.415086\n",
       "health                 2.713056\n",
       "wellnessandbeauty      2.536984\n",
       "fashion                1.085357\n",
       "barsandrestaurants     1.071735\n",
       "hyper                  1.025489\n",
       "sportsandtoys          0.673009\n",
       "tech                   0.398558\n",
       "home                   0.333982\n",
       "hotelservices          0.293285\n",
       "otherservices          0.153369\n",
       "contents               0.148829\n",
       "travel                 0.122426\n",
       "leisure                0.083916\n",
       "Name: category, dtype: float64"
      ]
     },
     "execution_count": 52,
     "metadata": {},
     "output_type": "execute_result"
    }
   ],
   "source": [
    "df[\"category\"].value_counts(normalize=True)*100"
   ]
  },
  {
   "cell_type": "code",
   "execution_count": 28,
   "metadata": {},
   "outputs": [
    {
     "data": {
      "text/plain": [
       "<AxesSubplot:>"
      ]
     },
     "execution_count": 28,
     "metadata": {},
     "output_type": "execute_result"
    },
    {
     "data": {
      "image/png": "[encoded data removed]",
      "text/plain": [
       "<Figure size 432x288 with 1 Axes>"
      ]
     },
     "metadata": {
      "needs_background": "light"
     },
     "output_type": "display_data"
    }
   ],
   "source": [
    "df[\"gender\"].value_counts().plot.bar()"
   ]
  },
  {
   "cell_type": "markdown",
   "metadata": {},
   "source": [
    "Les **femmes** détiennent le plus grand pourcentage du total des transactions que les **hommes**. **54,5%** du total des transactions sont effectuées par des femmes, **45%** par des hommes et seulement **0,2%** par des entreprises."
   ]
  },
  {
   "cell_type": "code",
   "execution_count": 73,
   "metadata": {},
   "outputs": [
    {
     "data": {
      "text/plain": [
       "<AxesSubplot:>"
      ]
     },
     "execution_count": 73,
     "metadata": {},
     "output_type": "execute_result"
    },
    {
     "data": {
      "image/png": "[encoded data removed]",
      "text/plain": [
       "<Figure size 432x288 with 1 Axes>"
      ]
     },
     "metadata": {
      "needs_background": "light"
     },
     "output_type": "display_data"
    }
   ],
   "source": [
    "df[\"age\"].value_counts().plot.bar()"
   ]
  },
  {
   "cell_type": "code",
   "execution_count": null,
   "metadata": {},
   "outputs": [],
   "source": [
    "data.hist(figsize=(20,30)) "
   ]
  },
  {
   "cell_type": "code",
   "execution_count": 32,
   "metadata": {},
   "outputs": [
    {
     "data": {
      "text/html": [
       "<div>\n",
       "<style scoped>\n",
       "    .dataframe tbody tr th:only-of-type {\n",
       "        vertical-align: middle;\n",
       "    }\n",
       "\n",
       "    .dataframe tbody tr th {\n",
       "        vertical-align: top;\n",
       "    }\n",
       "\n",
       "    .dataframe thead th {\n",
       "        text-align: right;\n",
       "    }\n",
       "</style>\n",
       "<table border=\"1\" class=\"dataframe\">\n",
       "  <thead>\n",
       "    <tr style=\"text-align: right;\">\n",
       "      <th>age</th>\n",
       "      <th>0</th>\n",
       "      <th>1</th>\n",
       "      <th>2</th>\n",
       "      <th>3</th>\n",
       "      <th>4</th>\n",
       "      <th>5</th>\n",
       "      <th>6</th>\n",
       "      <th>U</th>\n",
       "    </tr>\n",
       "    <tr>\n",
       "      <th>fraud</th>\n",
       "      <th></th>\n",
       "      <th></th>\n",
       "      <th></th>\n",
       "      <th></th>\n",
       "      <th></th>\n",
       "      <th></th>\n",
       "      <th></th>\n",
       "      <th></th>\n",
       "    </tr>\n",
       "  </thead>\n",
       "  <tbody>\n",
       "    <tr>\n",
       "      <th>0</th>\n",
       "      <td>2404</td>\n",
       "      <td>57442</td>\n",
       "      <td>184966</td>\n",
       "      <td>145376</td>\n",
       "      <td>107615</td>\n",
       "      <td>61956</td>\n",
       "      <td>26513</td>\n",
       "      <td>1171</td>\n",
       "    </tr>\n",
       "    <tr>\n",
       "      <th>1</th>\n",
       "      <td>48</td>\n",
       "      <td>689</td>\n",
       "      <td>2344</td>\n",
       "      <td>1755</td>\n",
       "      <td>1410</td>\n",
       "      <td>686</td>\n",
       "      <td>261</td>\n",
       "      <td>7</td>\n",
       "    </tr>\n",
       "  </tbody>\n",
       "</table>\n",
       "</div>"
      ],
      "text/plain": [
       "age       0      1       2       3       4      5      6     U\n",
       "fraud                                                         \n",
       "0      2404  57442  184966  145376  107615  61956  26513  1171\n",
       "1        48    689    2344    1755    1410    686    261     7"
      ]
     },
     "execution_count": 32,
     "metadata": {},
     "output_type": "execute_result"
    }
   ],
   "source": [
    "pd.crosstab(data['fraud'], data['age'])"
   ]
  },
  {
   "cell_type": "code",
   "execution_count": 3,
   "metadata": {
    "collapsed": true
   },
   "outputs": [
    {
     "data": {
      "text/html": [
       "<div>\n",
       "<style scoped>\n",
       "    .dataframe tbody tr th:only-of-type {\n",
       "        vertical-align: middle;\n",
       "    }\n",
       "\n",
       "    .dataframe tbody tr th {\n",
       "        vertical-align: top;\n",
       "    }\n",
       "\n",
       "    .dataframe thead th {\n",
       "        text-align: right;\n",
       "    }\n",
       "</style>\n",
       "<table border=\"1\" class=\"dataframe\">\n",
       "  <thead>\n",
       "    <tr style=\"text-align: right;\">\n",
       "      <th>category</th>\n",
       "      <th>barsandrestaurants</th>\n",
       "      <th>contents</th>\n",
       "      <th>fashion</th>\n",
       "      <th>food</th>\n",
       "      <th>health</th>\n",
       "      <th>home</th>\n",
       "      <th>hotelservices</th>\n",
       "      <th>hyper</th>\n",
       "      <th>leisure</th>\n",
       "      <th>otherservices</th>\n",
       "      <th>sportsandtoys</th>\n",
       "      <th>tech</th>\n",
       "      <th>transportation</th>\n",
       "      <th>travel</th>\n",
       "      <th>wellnessandbeauty</th>\n",
       "    </tr>\n",
       "    <tr>\n",
       "      <th>fraud</th>\n",
       "      <th></th>\n",
       "      <th></th>\n",
       "      <th></th>\n",
       "      <th></th>\n",
       "      <th></th>\n",
       "      <th></th>\n",
       "      <th></th>\n",
       "      <th></th>\n",
       "      <th></th>\n",
       "      <th></th>\n",
       "      <th></th>\n",
       "      <th></th>\n",
       "      <th></th>\n",
       "      <th></th>\n",
       "      <th></th>\n",
       "    </tr>\n",
       "  </thead>\n",
       "  <tbody>\n",
       "    <tr>\n",
       "      <th>0</th>\n",
       "      <td>6253</td>\n",
       "      <td>885</td>\n",
       "      <td>6338</td>\n",
       "      <td>26254</td>\n",
       "      <td>14437</td>\n",
       "      <td>1684</td>\n",
       "      <td>1196</td>\n",
       "      <td>5818</td>\n",
       "      <td>25</td>\n",
       "      <td>684</td>\n",
       "      <td>2020</td>\n",
       "      <td>2212</td>\n",
       "      <td>505119</td>\n",
       "      <td>150</td>\n",
       "      <td>14368</td>\n",
       "    </tr>\n",
       "    <tr>\n",
       "      <th>1</th>\n",
       "      <td>120</td>\n",
       "      <td>0</td>\n",
       "      <td>116</td>\n",
       "      <td>0</td>\n",
       "      <td>1696</td>\n",
       "      <td>302</td>\n",
       "      <td>548</td>\n",
       "      <td>280</td>\n",
       "      <td>474</td>\n",
       "      <td>228</td>\n",
       "      <td>1982</td>\n",
       "      <td>158</td>\n",
       "      <td>0</td>\n",
       "      <td>578</td>\n",
       "      <td>718</td>\n",
       "    </tr>\n",
       "  </tbody>\n",
       "</table>\n",
       "</div>"
      ],
      "text/plain": [
       "category  barsandrestaurants  contents  fashion   food  health  home  \\\n",
       "fraud                                                                  \n",
       "0                       6253       885     6338  26254   14437  1684   \n",
       "1                        120         0      116      0    1696   302   \n",
       "\n",
       "category  hotelservices  hyper  leisure  otherservices  sportsandtoys  tech  \\\n",
       "fraud                                                                         \n",
       "0                  1196   5818       25            684           2020  2212   \n",
       "1                   548    280      474            228           1982   158   \n",
       "\n",
       "category  transportation  travel  wellnessandbeauty  \n",
       "fraud                                                \n",
       "0                 505119     150              14368  \n",
       "1                      0     578                718  "
      ]
     },
     "execution_count": 3,
     "metadata": {},
     "output_type": "execute_result"
    }
   ],
   "source": [
    "pd.crosstab(df['fraud'], df['category'])"
   ]
  },
  {
   "cell_type": "code",
   "execution_count": 36,
   "metadata": {
    "scrolled": true
   },
   "outputs": [
    {
     "data": {
      "text/plain": [
       "<AxesSubplot:xlabel='amount', ylabel='Density'>"
      ]
     },
     "execution_count": 36,
     "metadata": {},
     "output_type": "execute_result"
    },
    {
     "data": {
      "image/png": "[encoded data removed]",
      "text/plain": [
       "<Figure size 432x288 with 1 Axes>"
      ]
     },
     "metadata": {
      "needs_background": "light"
     },
     "output_type": "display_data"
    }
   ],
   "source": [
    "sns.distplot(data['amount'])"
   ]
  },
  {
   "cell_type": "code",
   "execution_count": 10,
   "metadata": {},
   "outputs": [],
   "source": [
    "data = helpers.load_csv(\"../datasets/data.csv\")"
   ]
  },
  {
   "cell_type": "code",
   "execution_count": 45,
   "metadata": {},
   "outputs": [
    {
     "data": {
      "text/plain": [
       "<AxesSubplot:>"
      ]
     },
     "execution_count": 45,
     "metadata": {},
     "output_type": "execute_result"
    },
    {
     "data": {
      "image/png": "[encoded data removed]",
      "text/plain": [
       "<Figure size 432x288 with 2 Axes>"
      ]
     },
     "metadata": {
      "needs_background": "light"
     },
     "output_type": "display_data"
    }
   ],
   "source": [
    "corr = data.corr()\n",
    "mask = np.triu(np.ones_like(corr, dtype=bool))\n",
    "cmap = sns.diverging_palette(230, 20, as_cmap=True)\n",
    "sns.heatmap(corr,mask=mask, cmap=cmap, vmax=1, center=0,\n",
    "            square=True, linewidths=.7,cbar_kws={\"shrink\": 1}, annot=True)"
   ]
  },
  {
   "cell_type": "markdown",
   "metadata": {},
   "source": [
    "La matrice de corrélation est utilisée pour évaluer la dépendence entre plusieurs variables en même temps.On constate que la corrélation entre les choses est très faible donc il n'y a pas de liaison linéaire entre les variables."
   ]
  },
  {
   "cell_type": "code",
   "execution_count": 5,
   "metadata": {},
   "outputs": [
    {
     "data": {
      "image/png": "[encoded data removed]",
      "text/plain": [
       "<Figure size 432x288 with 2 Axes>"
      ]
     },
     "metadata": {
      "needs_background": "light"
     },
     "output_type": "display_data"
    },
    {
     "data": {
      "text/plain": [
       "{'corr':                  step  customer       age    gender  zipcodeOri  merchant  \\\n",
       " step         1.000000 -0.005223  0.010215  0.004673         0.0  0.245727   \n",
       " customer    -0.005223  1.000000  0.059381  0.025900         0.0  0.014571   \n",
       " age          0.010215  0.059381  1.000000  0.578013         0.0  0.025449   \n",
       " gender       0.004673  0.025900  0.578013  1.000000         0.0  0.013435   \n",
       " zipcodeOri   0.000000  0.000000  0.000000  0.000000         0.0  0.000000   \n",
       " merchant     0.245727  0.014571  0.025449  0.013435         0.0  1.000000   \n",
       " zipMerchant  0.000000  0.000000  0.000000  0.000000         0.0  0.000000   \n",
       " category     0.082065  0.008980  0.006490  0.010988         0.0  0.355177   \n",
       " amount      -0.007961  0.000984  0.007449  0.013080         0.0 -0.028051   \n",
       " fraud       -0.011898  0.006938  0.008616  0.025722         0.0 -0.034399   \n",
       " \n",
       "              zipMerchant  category    amount     fraud  \n",
       " step                 0.0  0.082065 -0.007961 -0.011898  \n",
       " customer             0.0  0.008980  0.000984  0.006938  \n",
       " age                  0.0  0.006490  0.007449  0.008616  \n",
       " gender               0.0  0.010988  0.013080  0.025722  \n",
       " zipcodeOri           0.0  0.000000  0.000000  0.000000  \n",
       " merchant             0.0  0.355177 -0.028051 -0.034399  \n",
       " zipMerchant          0.0  0.000000  0.000000  0.000000  \n",
       " category             0.0  1.000000  0.741711  0.570977  \n",
       " amount               0.0  0.741711  1.000000  0.489967  \n",
       " fraud                0.0  0.570977  0.489967  1.000000  ,\n",
       " 'ax': <AxesSubplot:>}"
      ]
     },
     "execution_count": 5,
     "metadata": {},
     "output_type": "execute_result"
    }
   ],
   "source": [
    "from dython.nominal import associations\n",
    "associations(df)"
   ]
  },
  {
   "cell_type": "code",
   "execution_count": 42,
   "metadata": {},
   "outputs": [
    {
     "data": {
      "text/plain": [
       "<seaborn.axisgrid.FacetGrid at 0x7f1a21437d30>"
      ]
     },
     "execution_count": 42,
     "metadata": {},
     "output_type": "execute_result"
    },
    {
     "data": {
      "image/png": "[encoded data removed]",
      "text/plain": [
       "<Figure size 402.375x360 with 1 Axes>"
      ]
     },
     "metadata": {
      "needs_background": "light"
     },
     "output_type": "display_data"
    }
   ],
   "source": [
    "sns.relplot(x=\"amount\", y=\"category\", hue=\"fraud\",\n",
    "            data=data)"
   ]
  },
  {
   "cell_type": "code",
   "execution_count": 12,
   "metadata": {},
   "outputs": [
    {
     "data": {
      "text/plain": [
       "<AxesSubplot:xlabel='amount', ylabel='fraud'>"
      ]
     },
     "execution_count": 12,
     "metadata": {},
     "output_type": "execute_result"
    },
    {
     "data": {
      "image/png": "[encoded data removed]",
      "text/plain": [
       "<Figure size 432x288 with 1 Axes>"
      ]
     },
     "metadata": {
      "needs_background": "light"
     },
     "output_type": "display_data"
    }
   ],
   "source": [
    "fig, ax = plt.subplots(figsize=(6, 4))\n",
    "df.plot.scatter(\n",
    "    x=\"amount\", y=\"fraud\", ax=ax, alpha=0.1\n",
    ")"
   ]
  },
  {
   "cell_type": "code",
   "execution_count": 11,
   "metadata": {},
   "outputs": [
    {
     "data": {
      "text/plain": [
       "<AxesSubplot:xlabel='category'>"
      ]
     },
     "execution_count": 11,
     "metadata": {},
     "output_type": "execute_result"
    },
    {
     "data": {
      "image/png": "[encoded data removed]",
      "text/plain": [
       "<Figure size 432x288 with 1 Axes>"
      ]
     },
     "metadata": {
      "needs_background": "light"
     },
     "output_type": "display_data"
    },
    {
     "data": {
      "image/png": "[encoded data removed]",
      "text/plain": [
       "<Figure size 432x288 with 1 Axes>"
      ]
     },
     "metadata": {
      "needs_background": "light"
     },
     "output_type": "display_data"
    }
   ],
   "source": [
    "plt.figure()\n",
    "df[\"category\"].value_counts().plot.bar()\n",
    "x,y = \"category\",\"fraud\"\n",
    "helpers.get_corr_with_target(df, \"category\",\"fraud\").plot.bar(x,y,color=\"#94058E\")"
   ]
  },
  {
   "cell_type": "markdown",
   "metadata": {},
   "source": [
    "Les catégories connaissent un déséquilibre de classe élevé. Il y a environ **500 000** soit **85**% des transactions effectuées seulement dans la catégorie des transports, tandis que le reste des transactions se répartit inégalement entre les 14 autres catégories restantes. \n",
    "\n",
    "En valeur absolue, les catégories qui ont le plus de cas de fraude sont dans des domaines comme les effets de maison, la santé, le bien-être et la beauté. En allant encore plus loin et en examinant le poids de la fraude par catégorie, on peut voir que **les loisirs**, **les voyages**, **les sports et les jouets** ont plus de **la moitié des transactions** signalées comme des fraudes, tandis que **le transport**, **la nourriture** et **le contenu** n'ont été sujet d'aucune fraude."
   ]
  },
  {
   "cell_type": "code",
   "execution_count": null,
   "metadata": {},
   "outputs": [],
   "source": []
  },
  {
   "cell_type": "code",
   "execution_count": 6,
   "metadata": {},
   "outputs": [
    {
     "data": {
      "text/plain": [
       "<AxesSubplot:xlabel='gender'>"
      ]
     },
     "execution_count": 6,
     "metadata": {},
     "output_type": "execute_result"
    },
    {
     "data": {
      "image/png": "[encoded data removed]",
      "text/plain": [
       "<Figure size 432x288 with 1 Axes>"
      ]
     },
     "metadata": {
      "needs_background": "light"
     },
     "output_type": "display_data"
    },
    {
     "data": {
      "image/png": "[encoded data removed]",
      "text/plain": [
       "<Figure size 432x288 with 1 Axes>"
      ]
     },
     "metadata": {
      "needs_background": "light"
     },
     "output_type": "display_data"
    }
   ],
   "source": [
    "x, y = \"gender\", \"fraud\"\n",
    "df[\"gender\"].value_counts().plot.bar()\n",
    "helpers.get_corr_with_target(df,x,y).plot.bar(x,y,color=\"#94058E\")"
   ]
  },
  {
   "cell_type": "markdown",
   "metadata": {},
   "source": [
    "Les catégories d'âge connaissent également un déséquilibre élevé. Les **femmes** dominent largement l'échantillon avec une représentation de plus de **54%** des transactions suivi des **hommes** **45%**. Les **entreprises** sont très faiblement représenté **0,19%** le reste sont de sexe **inconnus**. \n",
    "\n",
    "De même, le taux de fraude sexe suit cette tendance. Il s'élève à **1,4%** chez les **femmes**, **0,9%** pour les hommes et seulement **0,6%** pour les **entreprises**."
   ]
  },
  {
   "cell_type": "code",
   "execution_count": 22,
   "metadata": {},
   "outputs": [
    {
     "data": {
      "text/plain": [
       "2    31.499572\n",
       "3    24.742745\n",
       "4    18.334530\n",
       "5    10.534388\n",
       "1     9.775781\n",
       "6     4.502533\n",
       "0     0.412348\n",
       "U     0.198102\n",
       "Name: age, dtype: float64"
      ]
     },
     "execution_count": 22,
     "metadata": {},
     "output_type": "execute_result"
    }
   ],
   "source": [
    "df[\"age\"].value_counts(normalize=True)*100"
   ]
  },
  {
   "cell_type": "code",
   "execution_count": 16,
   "metadata": {},
   "outputs": [],
   "source": [
    "df[\"age\"].replace({\"U\": \"7\"}, inplace=True)\n",
    "data = df.rename(columns = {'age': 'Cat_Age'}, inplace = False)"
   ]
  },
  {
   "cell_type": "code",
   "execution_count": 30,
   "metadata": {},
   "outputs": [
    {
     "data": {
      "text/plain": [
       "0    1.957586\n",
       "4    1.293281\n",
       "2    1.251401\n",
       "3    1.192815\n",
       "1    1.185254\n",
       "5    1.095112\n",
       "6    0.974826\n",
       "7    0.594228\n",
       "Name: fraud, dtype: float64"
      ]
     },
     "execution_count": 30,
     "metadata": {},
     "output_type": "execute_result"
    },
    {
     "data": {
      "image/png": "[encoded data removed]",
      "text/plain": [
       "<Figure size 432x288 with 1 Axes>"
      ]
     },
     "metadata": {
      "needs_background": "light"
     },
     "output_type": "display_data"
    }
   ],
   "source": [
    "x, y = \"Cat_Age\", \"fraud\"\n",
    "data[\"Cat_Age\"].value_counts().plot.bar()\n",
    "cat_age_fraud = helpers.get_corr_with_target(data,x,y)\n",
    "cat_age_fraud[\"fraud\"]*100"
   ]
  },
  {
   "cell_type": "markdown",
   "metadata": {},
   "source": [
    "Au vu de ce graphe, les classes **[26,35]** et **[36,45]** ans sont les deux catégories les plus actifs dans les transactions, avec des parts respectives de **31,49%** et de **24,74%**. Les catégories **[46,55]** ans et **[56,65]** ans couvrent respectivement **18,33%** et **10,53%** des transactions. Les catégoriees **[26,35]** et **[26,35]** sont les moins représentées, soit respectivement **9,7%** et **4,5%**."
   ]
  },
  {
   "cell_type": "markdown",
   "metadata": {},
   "source": [
    "### Analyse du montant"
   ]
  },
  {
   "cell_type": "code",
   "execution_count": 63,
   "metadata": {},
   "outputs": [
    {
     "data": {
      "text/plain": [
       "count    594643.000000\n",
       "mean         37.890135\n",
       "std         111.402831\n",
       "min           0.000000\n",
       "25%          13.740000\n",
       "50%          26.900000\n",
       "75%          42.540000\n",
       "max        8329.960000\n",
       "Name: amount, dtype: float64"
      ]
     },
     "execution_count": 63,
     "metadata": {},
     "output_type": "execute_result"
    }
   ],
   "source": [
    "df[\"amount\"].describe().T"
   ]
  },
  {
   "cell_type": "code",
   "execution_count": 64,
   "metadata": {},
   "outputs": [
    {
     "data": {
      "text/plain": [
       "<AxesSubplot:>"
      ]
     },
     "execution_count": 64,
     "metadata": {},
     "output_type": "execute_result"
    },
    {
     "data": {
      "image/png": "[encoded data removed]",
      "text/plain": [
       "<Figure size 432x288 with 1 Axes>"
      ]
     },
     "metadata": {
      "needs_background": "light"
     },
     "output_type": "display_data"
    }
   ],
   "source": [
    "df[\"amount\"].hist()"
   ]
  },
  {
   "cell_type": "code",
   "execution_count": null,
   "metadata": {},
   "outputs": [],
   "source": []
  },
  {
   "cell_type": "code",
   "execution_count": null,
   "metadata": {},
   "outputs": [],
   "source": []
  },
  {
   "cell_type": "markdown",
   "metadata": {},
   "source": [
    "## Modeling"
   ]
  },
  {
   "cell_type": "code",
   "execution_count": 26,
   "metadata": {},
   "outputs": [],
   "source": [
    "from creditcard_mod import helpers\n",
    "df_model = helpers.load_csv(\"../datasets/first_features.csv\")"
   ]
  },
  {
   "cell_type": "code",
   "execution_count": 27,
   "metadata": {},
   "outputs": [],
   "source": [
    "from sklearn import (\n",
    "ensemble,\n",
    "preprocessing,\n",
    "tree,\n",
    ")\n",
    "from sklearn.metrics import (\n",
    "auc,\n",
    "confusion_matrix,\n",
    "roc_auc_score,\n",
    "roc_curve,\n",
    ")\n",
    "from sklearn.model_selection import (\n",
    "train_test_split,\n",
    "StratifiedKFold,\n",
    ")\n",
    "from sklearn.metrics import classification_report\n",
    "\n"
   ]
  },
  {
   "cell_type": "code",
   "execution_count": 39,
   "metadata": {},
   "outputs": [],
   "source": [
    "y = df_model.fraud\n",
    "X = df_model.drop(columns=[\"step\",\"customer\",\"merchant\",\"zipcodeOri\",\"zipMerchant\",\"fraud\"])"
   ]
  },
  {
   "cell_type": "markdown",
   "metadata": {},
   "source": [
    "## Echantillonnage des donnees"
   ]
  },
  {
   "cell_type": "code",
   "execution_count": 40,
   "metadata": {},
   "outputs": [],
   "source": [
    "X_train, X_test, y_train, y_test = train_test_split(\n",
    "X, y, test_size=0.3, random_state=28 ,stratify=y)"
   ]
  },
  {
   "cell_type": "code",
   "execution_count": 41,
   "metadata": {},
   "outputs": [
    {
     "data": {
      "text/html": [
       "<div>\n",
       "<style scoped>\n",
       "    .dataframe tbody tr th:only-of-type {\n",
       "        vertical-align: middle;\n",
       "    }\n",
       "\n",
       "    .dataframe tbody tr th {\n",
       "        vertical-align: top;\n",
       "    }\n",
       "\n",
       "    .dataframe thead th {\n",
       "        text-align: right;\n",
       "    }\n",
       "</style>\n",
       "<table border=\"1\" class=\"dataframe\">\n",
       "  <thead>\n",
       "    <tr style=\"text-align: right;\">\n",
       "      <th></th>\n",
       "      <th>age</th>\n",
       "      <th>gender</th>\n",
       "      <th>category</th>\n",
       "      <th>amount</th>\n",
       "      <th>nbre_trans_7jrs</th>\n",
       "      <th>nbre_trans_15jrs</th>\n",
       "      <th>nbre_trans_30jrs</th>\n",
       "    </tr>\n",
       "  </thead>\n",
       "  <tbody>\n",
       "    <tr>\n",
       "      <th>0</th>\n",
       "      <td>4</td>\n",
       "      <td>M</td>\n",
       "      <td>transportation</td>\n",
       "      <td>4.55</td>\n",
       "      <td>0.0</td>\n",
       "      <td>0.0</td>\n",
       "      <td>0.0</td>\n",
       "    </tr>\n",
       "    <tr>\n",
       "      <th>1</th>\n",
       "      <td>2</td>\n",
       "      <td>M</td>\n",
       "      <td>transportation</td>\n",
       "      <td>39.68</td>\n",
       "      <td>0.0</td>\n",
       "      <td>0.0</td>\n",
       "      <td>0.0</td>\n",
       "    </tr>\n",
       "    <tr>\n",
       "      <th>2</th>\n",
       "      <td>4</td>\n",
       "      <td>F</td>\n",
       "      <td>transportation</td>\n",
       "      <td>26.89</td>\n",
       "      <td>0.0</td>\n",
       "      <td>0.0</td>\n",
       "      <td>0.0</td>\n",
       "    </tr>\n",
       "    <tr>\n",
       "      <th>3</th>\n",
       "      <td>3</td>\n",
       "      <td>M</td>\n",
       "      <td>transportation</td>\n",
       "      <td>17.25</td>\n",
       "      <td>0.0</td>\n",
       "      <td>0.0</td>\n",
       "      <td>0.0</td>\n",
       "    </tr>\n",
       "    <tr>\n",
       "      <th>4</th>\n",
       "      <td>5</td>\n",
       "      <td>M</td>\n",
       "      <td>transportation</td>\n",
       "      <td>35.72</td>\n",
       "      <td>0.0</td>\n",
       "      <td>0.0</td>\n",
       "      <td>0.0</td>\n",
       "    </tr>\n",
       "    <tr>\n",
       "      <th>...</th>\n",
       "      <td>...</td>\n",
       "      <td>...</td>\n",
       "      <td>...</td>\n",
       "      <td>...</td>\n",
       "      <td>...</td>\n",
       "      <td>...</td>\n",
       "      <td>...</td>\n",
       "    </tr>\n",
       "    <tr>\n",
       "      <th>594638</th>\n",
       "      <td>3</td>\n",
       "      <td>F</td>\n",
       "      <td>transportation</td>\n",
       "      <td>20.53</td>\n",
       "      <td>6.0</td>\n",
       "      <td>14.0</td>\n",
       "      <td>30.0</td>\n",
       "    </tr>\n",
       "    <tr>\n",
       "      <th>594639</th>\n",
       "      <td>4</td>\n",
       "      <td>F</td>\n",
       "      <td>transportation</td>\n",
       "      <td>50.73</td>\n",
       "      <td>6.0</td>\n",
       "      <td>14.0</td>\n",
       "      <td>29.0</td>\n",
       "    </tr>\n",
       "    <tr>\n",
       "      <th>594640</th>\n",
       "      <td>2</td>\n",
       "      <td>F</td>\n",
       "      <td>fashion</td>\n",
       "      <td>22.44</td>\n",
       "      <td>5.0</td>\n",
       "      <td>14.0</td>\n",
       "      <td>29.0</td>\n",
       "    </tr>\n",
       "    <tr>\n",
       "      <th>594641</th>\n",
       "      <td>5</td>\n",
       "      <td>M</td>\n",
       "      <td>transportation</td>\n",
       "      <td>14.46</td>\n",
       "      <td>6.0</td>\n",
       "      <td>14.0</td>\n",
       "      <td>29.0</td>\n",
       "    </tr>\n",
       "    <tr>\n",
       "      <th>594642</th>\n",
       "      <td>4</td>\n",
       "      <td>F</td>\n",
       "      <td>transportation</td>\n",
       "      <td>26.93</td>\n",
       "      <td>6.0</td>\n",
       "      <td>14.0</td>\n",
       "      <td>30.0</td>\n",
       "    </tr>\n",
       "  </tbody>\n",
       "</table>\n",
       "<p>594643 rows × 7 columns</p>\n",
       "</div>"
      ],
      "text/plain": [
       "       age gender        category  amount  nbre_trans_7jrs  nbre_trans_15jrs  \\\n",
       "0        4      M  transportation    4.55              0.0               0.0   \n",
       "1        2      M  transportation   39.68              0.0               0.0   \n",
       "2        4      F  transportation   26.89              0.0               0.0   \n",
       "3        3      M  transportation   17.25              0.0               0.0   \n",
       "4        5      M  transportation   35.72              0.0               0.0   \n",
       "...     ..    ...             ...     ...              ...               ...   \n",
       "594638   3      F  transportation   20.53              6.0              14.0   \n",
       "594639   4      F  transportation   50.73              6.0              14.0   \n",
       "594640   2      F         fashion   22.44              5.0              14.0   \n",
       "594641   5      M  transportation   14.46              6.0              14.0   \n",
       "594642   4      F  transportation   26.93              6.0              14.0   \n",
       "\n",
       "        nbre_trans_30jrs  \n",
       "0                    0.0  \n",
       "1                    0.0  \n",
       "2                    0.0  \n",
       "3                    0.0  \n",
       "4                    0.0  \n",
       "...                  ...  \n",
       "594638              30.0  \n",
       "594639              29.0  \n",
       "594640              29.0  \n",
       "594641              29.0  \n",
       "594642              30.0  \n",
       "\n",
       "[594643 rows x 7 columns]"
      ]
     },
     "execution_count": 41,
     "metadata": {},
     "output_type": "execute_result"
    }
   ],
   "source": [
    "X"
   ]
  },
  {
   "cell_type": "code",
   "execution_count": 22,
   "metadata": {},
   "outputs": [
    {
     "data": {
      "text/plain": [
       "(416250,)"
      ]
     },
     "execution_count": 22,
     "metadata": {},
     "output_type": "execute_result"
    }
   ],
   "source": [
    "y_train.shape"
   ]
  },
  {
   "cell_type": "code",
   "execution_count": 19,
   "metadata": {},
   "outputs": [
    {
     "data": {
      "text/plain": [
       "(array([0, 1]), array([411210,   5040]))"
      ]
     },
     "execution_count": 19,
     "metadata": {},
     "output_type": "execute_result"
    }
   ],
   "source": [
    "np.unique(y_train, return_counts=True)"
   ]
  },
  {
   "cell_type": "code",
   "execution_count": null,
   "metadata": {},
   "outputs": [],
   "source": []
  },
  {
   "cell_type": "markdown",
   "metadata": {},
   "source": [
    "## Baseline modele"
   ]
  },
  {
   "cell_type": "code",
   "execution_count": 42,
   "metadata": {},
   "outputs": [
    {
     "data": {
      "text/plain": [
       "0.9878919015880668"
      ]
     },
     "execution_count": 42,
     "metadata": {},
     "output_type": "execute_result"
    }
   ],
   "source": [
    "from sklearn.dummy import DummyClassifier\n",
    "\n",
    "baseline_model = DummyClassifier()\n",
    "baseline_model.fit(X_train, y_train)\n",
    "baseline_model.score(X_test, y_test)\n"
   ]
  },
  {
   "cell_type": "code",
   "execution_count": 43,
   "metadata": {},
   "outputs": [
    {
     "name": "stdout",
     "output_type": "stream",
     "text": [
      "              precision    recall  f1-score   support\n",
      "\n",
      "           0       0.99      1.00      0.99    176233\n",
      "           1       0.00      0.00      0.00      2160\n",
      "\n",
      "    accuracy                           0.99    178393\n",
      "   macro avg       0.49      0.50      0.50    178393\n",
      "weighted avg       0.98      0.99      0.98    178393\n",
      "\n"
     ]
    },
    {
     "name": "stderr",
     "output_type": "stream",
     "text": [
      "/home/muhammad/.cache/pypoetry/virtualenvs/fraud-creditcard-ml-ansh3wJ6-py3.8/lib/python3.8/site-packages/sklearn/metrics/_classification.py:1245: UndefinedMetricWarning: Precision and F-score are ill-defined and being set to 0.0 in labels with no predicted samples. Use `zero_division` parameter to control this behavior.\n",
      "  _warn_prf(average, modifier, msg_start, len(result))\n",
      "/home/muhammad/.cache/pypoetry/virtualenvs/fraud-creditcard-ml-ansh3wJ6-py3.8/lib/python3.8/site-packages/sklearn/metrics/_classification.py:1245: UndefinedMetricWarning: Precision and F-score are ill-defined and being set to 0.0 in labels with no predicted samples. Use `zero_division` parameter to control this behavior.\n",
      "  _warn_prf(average, modifier, msg_start, len(result))\n",
      "/home/muhammad/.cache/pypoetry/virtualenvs/fraud-creditcard-ml-ansh3wJ6-py3.8/lib/python3.8/site-packages/sklearn/metrics/_classification.py:1245: UndefinedMetricWarning: Precision and F-score are ill-defined and being set to 0.0 in labels with no predicted samples. Use `zero_division` parameter to control this behavior.\n",
      "  _warn_prf(average, modifier, msg_start, len(result))\n"
     ]
    }
   ],
   "source": [
    "y_pred = baseline_model.predict(X_test)\n",
    "print(classification_report(y_test,y_pred))"
   ]
  },
  {
   "cell_type": "code",
   "execution_count": 22,
   "metadata": {},
   "outputs": [
    {
     "name": "stdout",
     "output_type": "stream",
     "text": [
      "DummyClassifier         AUC: 0.500 STD: 0.00\n"
     ]
    },
    {
     "name": "stderr",
     "output_type": "stream",
     "text": [
      "/home/muhammad/.cache/pypoetry/virtualenvs/fraud-creditcard-ml-ansh3wJ6-py3.8/lib/python3.8/site-packages/sklearn/model_selection/_validation.py:610: FitFailedWarning: Estimator fit failed. The score on this train-test partition for these parameters will be set to nan. Details: \n",
      "Traceback (most recent call last):\n",
      "  File \"/home/muhammad/.cache/pypoetry/virtualenvs/fraud-creditcard-ml-ansh3wJ6-py3.8/lib/python3.8/site-packages/sklearn/model_selection/_validation.py\", line 593, in _fit_and_score\n",
      "    estimator.fit(X_train, y_train, **fit_params)\n",
      "  File \"/home/muhammad/.cache/pypoetry/virtualenvs/fraud-creditcard-ml-ansh3wJ6-py3.8/lib/python3.8/site-packages/sklearn/linear_model/_logistic.py\", line 1344, in fit\n",
      "    X, y = self._validate_data(X, y, accept_sparse='csr', dtype=_dtype,\n",
      "  File \"/home/muhammad/.cache/pypoetry/virtualenvs/fraud-creditcard-ml-ansh3wJ6-py3.8/lib/python3.8/site-packages/sklearn/base.py\", line 433, in _validate_data\n",
      "    X, y = check_X_y(X, y, **check_params)\n",
      "  File \"/home/muhammad/.cache/pypoetry/virtualenvs/fraud-creditcard-ml-ansh3wJ6-py3.8/lib/python3.8/site-packages/sklearn/utils/validation.py\", line 63, in inner_f\n",
      "    return f(*args, **kwargs)\n",
      "  File \"/home/muhammad/.cache/pypoetry/virtualenvs/fraud-creditcard-ml-ansh3wJ6-py3.8/lib/python3.8/site-packages/sklearn/utils/validation.py\", line 814, in check_X_y\n",
      "    X = check_array(X, accept_sparse=accept_sparse,\n",
      "  File \"/home/muhammad/.cache/pypoetry/virtualenvs/fraud-creditcard-ml-ansh3wJ6-py3.8/lib/python3.8/site-packages/sklearn/utils/validation.py\", line 63, in inner_f\n",
      "    return f(*args, **kwargs)\n",
      "  File \"/home/muhammad/.cache/pypoetry/virtualenvs/fraud-creditcard-ml-ansh3wJ6-py3.8/lib/python3.8/site-packages/sklearn/utils/validation.py\", line 616, in check_array\n",
      "    array = np.asarray(array, order=order, dtype=dtype)\n",
      "  File \"/home/muhammad/.cache/pypoetry/virtualenvs/fraud-creditcard-ml-ansh3wJ6-py3.8/lib/python3.8/site-packages/numpy/core/_asarray.py\", line 83, in asarray\n",
      "    return array(a, dtype, copy=False, order=order)\n",
      "  File \"/home/muhammad/.cache/pypoetry/virtualenvs/fraud-creditcard-ml-ansh3wJ6-py3.8/lib/python3.8/site-packages/pandas/core/generic.py\", line 1781, in __array__\n",
      "    return np.asarray(self._values, dtype=dtype)\n",
      "  File \"/home/muhammad/.cache/pypoetry/virtualenvs/fraud-creditcard-ml-ansh3wJ6-py3.8/lib/python3.8/site-packages/numpy/core/_asarray.py\", line 83, in asarray\n",
      "    return array(a, dtype, copy=False, order=order)\n",
      "ValueError: could not convert string to float: '2020-01-01'\n",
      "\n",
      "  warnings.warn(\"Estimator fit failed. The score on this train-test\"\n",
      "/home/muhammad/.cache/pypoetry/virtualenvs/fraud-creditcard-ml-ansh3wJ6-py3.8/lib/python3.8/site-packages/sklearn/model_selection/_validation.py:610: FitFailedWarning: Estimator fit failed. The score on this train-test partition for these parameters will be set to nan. Details: \n",
      "Traceback (most recent call last):\n",
      "  File \"/home/muhammad/.cache/pypoetry/virtualenvs/fraud-creditcard-ml-ansh3wJ6-py3.8/lib/python3.8/site-packages/sklearn/model_selection/_validation.py\", line 593, in _fit_and_score\n",
      "    estimator.fit(X_train, y_train, **fit_params)\n",
      "  File \"/home/muhammad/.cache/pypoetry/virtualenvs/fraud-creditcard-ml-ansh3wJ6-py3.8/lib/python3.8/site-packages/sklearn/linear_model/_logistic.py\", line 1344, in fit\n",
      "    X, y = self._validate_data(X, y, accept_sparse='csr', dtype=_dtype,\n",
      "  File \"/home/muhammad/.cache/pypoetry/virtualenvs/fraud-creditcard-ml-ansh3wJ6-py3.8/lib/python3.8/site-packages/sklearn/base.py\", line 433, in _validate_data\n",
      "    X, y = check_X_y(X, y, **check_params)\n",
      "  File \"/home/muhammad/.cache/pypoetry/virtualenvs/fraud-creditcard-ml-ansh3wJ6-py3.8/lib/python3.8/site-packages/sklearn/utils/validation.py\", line 63, in inner_f\n",
      "    return f(*args, **kwargs)\n",
      "  File \"/home/muhammad/.cache/pypoetry/virtualenvs/fraud-creditcard-ml-ansh3wJ6-py3.8/lib/python3.8/site-packages/sklearn/utils/validation.py\", line 814, in check_X_y\n",
      "    X = check_array(X, accept_sparse=accept_sparse,\n",
      "  File \"/home/muhammad/.cache/pypoetry/virtualenvs/fraud-creditcard-ml-ansh3wJ6-py3.8/lib/python3.8/site-packages/sklearn/utils/validation.py\", line 63, in inner_f\n",
      "    return f(*args, **kwargs)\n",
      "  File \"/home/muhammad/.cache/pypoetry/virtualenvs/fraud-creditcard-ml-ansh3wJ6-py3.8/lib/python3.8/site-packages/sklearn/utils/validation.py\", line 616, in check_array\n",
      "    array = np.asarray(array, order=order, dtype=dtype)\n",
      "  File \"/home/muhammad/.cache/pypoetry/virtualenvs/fraud-creditcard-ml-ansh3wJ6-py3.8/lib/python3.8/site-packages/numpy/core/_asarray.py\", line 83, in asarray\n",
      "    return array(a, dtype, copy=False, order=order)\n",
      "  File \"/home/muhammad/.cache/pypoetry/virtualenvs/fraud-creditcard-ml-ansh3wJ6-py3.8/lib/python3.8/site-packages/pandas/core/generic.py\", line 1781, in __array__\n",
      "    return np.asarray(self._values, dtype=dtype)\n",
      "  File \"/home/muhammad/.cache/pypoetry/virtualenvs/fraud-creditcard-ml-ansh3wJ6-py3.8/lib/python3.8/site-packages/numpy/core/_asarray.py\", line 83, in asarray\n",
      "    return array(a, dtype, copy=False, order=order)\n",
      "ValueError: could not convert string to float: '2020-01-01'\n",
      "\n",
      "  warnings.warn(\"Estimator fit failed. The score on this train-test\"\n"
     ]
    },
    {
     "name": "stdout",
     "output_type": "stream",
     "text": [
      "LogisticRegression      AUC: nan STD: nan\n"
     ]
    },
    {
     "name": "stderr",
     "output_type": "stream",
     "text": [
      "/home/muhammad/.cache/pypoetry/virtualenvs/fraud-creditcard-ml-ansh3wJ6-py3.8/lib/python3.8/site-packages/sklearn/model_selection/_validation.py:610: FitFailedWarning: Estimator fit failed. The score on this train-test partition for these parameters will be set to nan. Details: \n",
      "Traceback (most recent call last):\n",
      "  File \"/home/muhammad/.cache/pypoetry/virtualenvs/fraud-creditcard-ml-ansh3wJ6-py3.8/lib/python3.8/site-packages/sklearn/model_selection/_validation.py\", line 593, in _fit_and_score\n",
      "    estimator.fit(X_train, y_train, **fit_params)\n",
      "  File \"/home/muhammad/.cache/pypoetry/virtualenvs/fraud-creditcard-ml-ansh3wJ6-py3.8/lib/python3.8/site-packages/sklearn/tree/_classes.py\", line 898, in fit\n",
      "    super().fit(\n",
      "  File \"/home/muhammad/.cache/pypoetry/virtualenvs/fraud-creditcard-ml-ansh3wJ6-py3.8/lib/python3.8/site-packages/sklearn/tree/_classes.py\", line 156, in fit\n",
      "    X, y = self._validate_data(X, y,\n",
      "  File \"/home/muhammad/.cache/pypoetry/virtualenvs/fraud-creditcard-ml-ansh3wJ6-py3.8/lib/python3.8/site-packages/sklearn/base.py\", line 430, in _validate_data\n",
      "    X = check_array(X, **check_X_params)\n",
      "  File \"/home/muhammad/.cache/pypoetry/virtualenvs/fraud-creditcard-ml-ansh3wJ6-py3.8/lib/python3.8/site-packages/sklearn/utils/validation.py\", line 63, in inner_f\n",
      "    return f(*args, **kwargs)\n",
      "  File \"/home/muhammad/.cache/pypoetry/virtualenvs/fraud-creditcard-ml-ansh3wJ6-py3.8/lib/python3.8/site-packages/sklearn/utils/validation.py\", line 616, in check_array\n",
      "    array = np.asarray(array, order=order, dtype=dtype)\n",
      "  File \"/home/muhammad/.cache/pypoetry/virtualenvs/fraud-creditcard-ml-ansh3wJ6-py3.8/lib/python3.8/site-packages/numpy/core/_asarray.py\", line 83, in asarray\n",
      "    return array(a, dtype, copy=False, order=order)\n",
      "  File \"/home/muhammad/.cache/pypoetry/virtualenvs/fraud-creditcard-ml-ansh3wJ6-py3.8/lib/python3.8/site-packages/pandas/core/generic.py\", line 1781, in __array__\n",
      "    return np.asarray(self._values, dtype=dtype)\n",
      "  File \"/home/muhammad/.cache/pypoetry/virtualenvs/fraud-creditcard-ml-ansh3wJ6-py3.8/lib/python3.8/site-packages/numpy/core/_asarray.py\", line 83, in asarray\n",
      "    return array(a, dtype, copy=False, order=order)\n",
      "ValueError: could not convert string to float: '2020-01-01'\n",
      "\n",
      "  warnings.warn(\"Estimator fit failed. The score on this train-test\"\n",
      "/home/muhammad/.cache/pypoetry/virtualenvs/fraud-creditcard-ml-ansh3wJ6-py3.8/lib/python3.8/site-packages/sklearn/model_selection/_validation.py:610: FitFailedWarning: Estimator fit failed. The score on this train-test partition for these parameters will be set to nan. Details: \n",
      "Traceback (most recent call last):\n",
      "  File \"/home/muhammad/.cache/pypoetry/virtualenvs/fraud-creditcard-ml-ansh3wJ6-py3.8/lib/python3.8/site-packages/sklearn/model_selection/_validation.py\", line 593, in _fit_and_score\n",
      "    estimator.fit(X_train, y_train, **fit_params)\n",
      "  File \"/home/muhammad/.cache/pypoetry/virtualenvs/fraud-creditcard-ml-ansh3wJ6-py3.8/lib/python3.8/site-packages/sklearn/tree/_classes.py\", line 898, in fit\n",
      "    super().fit(\n",
      "  File \"/home/muhammad/.cache/pypoetry/virtualenvs/fraud-creditcard-ml-ansh3wJ6-py3.8/lib/python3.8/site-packages/sklearn/tree/_classes.py\", line 156, in fit\n",
      "    X, y = self._validate_data(X, y,\n",
      "  File \"/home/muhammad/.cache/pypoetry/virtualenvs/fraud-creditcard-ml-ansh3wJ6-py3.8/lib/python3.8/site-packages/sklearn/base.py\", line 430, in _validate_data\n",
      "    X = check_array(X, **check_X_params)\n",
      "  File \"/home/muhammad/.cache/pypoetry/virtualenvs/fraud-creditcard-ml-ansh3wJ6-py3.8/lib/python3.8/site-packages/sklearn/utils/validation.py\", line 63, in inner_f\n",
      "    return f(*args, **kwargs)\n",
      "  File \"/home/muhammad/.cache/pypoetry/virtualenvs/fraud-creditcard-ml-ansh3wJ6-py3.8/lib/python3.8/site-packages/sklearn/utils/validation.py\", line 616, in check_array\n",
      "    array = np.asarray(array, order=order, dtype=dtype)\n",
      "  File \"/home/muhammad/.cache/pypoetry/virtualenvs/fraud-creditcard-ml-ansh3wJ6-py3.8/lib/python3.8/site-packages/numpy/core/_asarray.py\", line 83, in asarray\n",
      "    return array(a, dtype, copy=False, order=order)\n",
      "  File \"/home/muhammad/.cache/pypoetry/virtualenvs/fraud-creditcard-ml-ansh3wJ6-py3.8/lib/python3.8/site-packages/pandas/core/generic.py\", line 1781, in __array__\n",
      "    return np.asarray(self._values, dtype=dtype)\n",
      "  File \"/home/muhammad/.cache/pypoetry/virtualenvs/fraud-creditcard-ml-ansh3wJ6-py3.8/lib/python3.8/site-packages/numpy/core/_asarray.py\", line 83, in asarray\n",
      "    return array(a, dtype, copy=False, order=order)\n",
      "ValueError: could not convert string to float: '2020-01-01'\n",
      "\n",
      "  warnings.warn(\"Estimator fit failed. The score on this train-test\"\n"
     ]
    },
    {
     "name": "stdout",
     "output_type": "stream",
     "text": [
      "DecisionTreeClassifier  AUC: nan STD: nan\n"
     ]
    },
    {
     "name": "stderr",
     "output_type": "stream",
     "text": [
      "/home/muhammad/.cache/pypoetry/virtualenvs/fraud-creditcard-ml-ansh3wJ6-py3.8/lib/python3.8/site-packages/sklearn/model_selection/_validation.py:610: FitFailedWarning: Estimator fit failed. The score on this train-test partition for these parameters will be set to nan. Details: \n",
      "Traceback (most recent call last):\n",
      "  File \"/home/muhammad/.cache/pypoetry/virtualenvs/fraud-creditcard-ml-ansh3wJ6-py3.8/lib/python3.8/site-packages/sklearn/model_selection/_validation.py\", line 593, in _fit_and_score\n",
      "    estimator.fit(X_train, y_train, **fit_params)\n",
      "  File \"/home/muhammad/.cache/pypoetry/virtualenvs/fraud-creditcard-ml-ansh3wJ6-py3.8/lib/python3.8/site-packages/sklearn/neighbors/_classification.py\", line 179, in fit\n",
      "    return self._fit(X, y)\n",
      "  File \"/home/muhammad/.cache/pypoetry/virtualenvs/fraud-creditcard-ml-ansh3wJ6-py3.8/lib/python3.8/site-packages/sklearn/neighbors/_base.py\", line 363, in _fit\n",
      "    X, y = self._validate_data(X, y, accept_sparse=\"csr\",\n",
      "  File \"/home/muhammad/.cache/pypoetry/virtualenvs/fraud-creditcard-ml-ansh3wJ6-py3.8/lib/python3.8/site-packages/sklearn/base.py\", line 433, in _validate_data\n",
      "    X, y = check_X_y(X, y, **check_params)\n",
      "  File \"/home/muhammad/.cache/pypoetry/virtualenvs/fraud-creditcard-ml-ansh3wJ6-py3.8/lib/python3.8/site-packages/sklearn/utils/validation.py\", line 63, in inner_f\n",
      "    return f(*args, **kwargs)\n",
      "  File \"/home/muhammad/.cache/pypoetry/virtualenvs/fraud-creditcard-ml-ansh3wJ6-py3.8/lib/python3.8/site-packages/sklearn/utils/validation.py\", line 814, in check_X_y\n",
      "    X = check_array(X, accept_sparse=accept_sparse,\n",
      "  File \"/home/muhammad/.cache/pypoetry/virtualenvs/fraud-creditcard-ml-ansh3wJ6-py3.8/lib/python3.8/site-packages/sklearn/utils/validation.py\", line 63, in inner_f\n",
      "    return f(*args, **kwargs)\n",
      "  File \"/home/muhammad/.cache/pypoetry/virtualenvs/fraud-creditcard-ml-ansh3wJ6-py3.8/lib/python3.8/site-packages/sklearn/utils/validation.py\", line 616, in check_array\n",
      "    array = np.asarray(array, order=order, dtype=dtype)\n",
      "  File \"/home/muhammad/.cache/pypoetry/virtualenvs/fraud-creditcard-ml-ansh3wJ6-py3.8/lib/python3.8/site-packages/numpy/core/_asarray.py\", line 83, in asarray\n",
      "    return array(a, dtype, copy=False, order=order)\n",
      "  File \"/home/muhammad/.cache/pypoetry/virtualenvs/fraud-creditcard-ml-ansh3wJ6-py3.8/lib/python3.8/site-packages/pandas/core/generic.py\", line 1781, in __array__\n",
      "    return np.asarray(self._values, dtype=dtype)\n",
      "  File \"/home/muhammad/.cache/pypoetry/virtualenvs/fraud-creditcard-ml-ansh3wJ6-py3.8/lib/python3.8/site-packages/numpy/core/_asarray.py\", line 83, in asarray\n",
      "    return array(a, dtype, copy=False, order=order)\n",
      "ValueError: could not convert string to float: '2020-01-01'\n",
      "\n",
      "  warnings.warn(\"Estimator fit failed. The score on this train-test\"\n",
      "/home/muhammad/.cache/pypoetry/virtualenvs/fraud-creditcard-ml-ansh3wJ6-py3.8/lib/python3.8/site-packages/sklearn/model_selection/_validation.py:610: FitFailedWarning: Estimator fit failed. The score on this train-test partition for these parameters will be set to nan. Details: \n",
      "Traceback (most recent call last):\n",
      "  File \"/home/muhammad/.cache/pypoetry/virtualenvs/fraud-creditcard-ml-ansh3wJ6-py3.8/lib/python3.8/site-packages/sklearn/model_selection/_validation.py\", line 593, in _fit_and_score\n",
      "    estimator.fit(X_train, y_train, **fit_params)\n",
      "  File \"/home/muhammad/.cache/pypoetry/virtualenvs/fraud-creditcard-ml-ansh3wJ6-py3.8/lib/python3.8/site-packages/sklearn/neighbors/_classification.py\", line 179, in fit\n",
      "    return self._fit(X, y)\n",
      "  File \"/home/muhammad/.cache/pypoetry/virtualenvs/fraud-creditcard-ml-ansh3wJ6-py3.8/lib/python3.8/site-packages/sklearn/neighbors/_base.py\", line 363, in _fit\n",
      "    X, y = self._validate_data(X, y, accept_sparse=\"csr\",\n",
      "  File \"/home/muhammad/.cache/pypoetry/virtualenvs/fraud-creditcard-ml-ansh3wJ6-py3.8/lib/python3.8/site-packages/sklearn/base.py\", line 433, in _validate_data\n",
      "    X, y = check_X_y(X, y, **check_params)\n",
      "  File \"/home/muhammad/.cache/pypoetry/virtualenvs/fraud-creditcard-ml-ansh3wJ6-py3.8/lib/python3.8/site-packages/sklearn/utils/validation.py\", line 63, in inner_f\n",
      "    return f(*args, **kwargs)\n",
      "  File \"/home/muhammad/.cache/pypoetry/virtualenvs/fraud-creditcard-ml-ansh3wJ6-py3.8/lib/python3.8/site-packages/sklearn/utils/validation.py\", line 814, in check_X_y\n",
      "    X = check_array(X, accept_sparse=accept_sparse,\n",
      "  File \"/home/muhammad/.cache/pypoetry/virtualenvs/fraud-creditcard-ml-ansh3wJ6-py3.8/lib/python3.8/site-packages/sklearn/utils/validation.py\", line 63, in inner_f\n",
      "    return f(*args, **kwargs)\n",
      "  File \"/home/muhammad/.cache/pypoetry/virtualenvs/fraud-creditcard-ml-ansh3wJ6-py3.8/lib/python3.8/site-packages/sklearn/utils/validation.py\", line 616, in check_array\n",
      "    array = np.asarray(array, order=order, dtype=dtype)\n",
      "  File \"/home/muhammad/.cache/pypoetry/virtualenvs/fraud-creditcard-ml-ansh3wJ6-py3.8/lib/python3.8/site-packages/numpy/core/_asarray.py\", line 83, in asarray\n",
      "    return array(a, dtype, copy=False, order=order)\n",
      "  File \"/home/muhammad/.cache/pypoetry/virtualenvs/fraud-creditcard-ml-ansh3wJ6-py3.8/lib/python3.8/site-packages/pandas/core/generic.py\", line 1781, in __array__\n",
      "    return np.asarray(self._values, dtype=dtype)\n",
      "  File \"/home/muhammad/.cache/pypoetry/virtualenvs/fraud-creditcard-ml-ansh3wJ6-py3.8/lib/python3.8/site-packages/numpy/core/_asarray.py\", line 83, in asarray\n",
      "    return array(a, dtype, copy=False, order=order)\n",
      "ValueError: could not convert string to float: '2020-01-01'\n",
      "\n",
      "  warnings.warn(\"Estimator fit failed. The score on this train-test\"\n"
     ]
    },
    {
     "name": "stdout",
     "output_type": "stream",
     "text": [
      "KNeighborsClassifier    AUC: nan STD: nan\n"
     ]
    },
    {
     "name": "stderr",
     "output_type": "stream",
     "text": [
      "/home/muhammad/.cache/pypoetry/virtualenvs/fraud-creditcard-ml-ansh3wJ6-py3.8/lib/python3.8/site-packages/sklearn/model_selection/_validation.py:610: FitFailedWarning: Estimator fit failed. The score on this train-test partition for these parameters will be set to nan. Details: \n",
      "Traceback (most recent call last):\n",
      "  File \"/home/muhammad/.cache/pypoetry/virtualenvs/fraud-creditcard-ml-ansh3wJ6-py3.8/lib/python3.8/site-packages/sklearn/model_selection/_validation.py\", line 593, in _fit_and_score\n",
      "    estimator.fit(X_train, y_train, **fit_params)\n",
      "  File \"/home/muhammad/.cache/pypoetry/virtualenvs/fraud-creditcard-ml-ansh3wJ6-py3.8/lib/python3.8/site-packages/sklearn/naive_bayes.py\", line 207, in fit\n",
      "    X, y = self._validate_data(X, y)\n",
      "  File \"/home/muhammad/.cache/pypoetry/virtualenvs/fraud-creditcard-ml-ansh3wJ6-py3.8/lib/python3.8/site-packages/sklearn/base.py\", line 433, in _validate_data\n",
      "    X, y = check_X_y(X, y, **check_params)\n",
      "  File \"/home/muhammad/.cache/pypoetry/virtualenvs/fraud-creditcard-ml-ansh3wJ6-py3.8/lib/python3.8/site-packages/sklearn/utils/validation.py\", line 63, in inner_f\n",
      "    return f(*args, **kwargs)\n",
      "  File \"/home/muhammad/.cache/pypoetry/virtualenvs/fraud-creditcard-ml-ansh3wJ6-py3.8/lib/python3.8/site-packages/sklearn/utils/validation.py\", line 814, in check_X_y\n",
      "    X = check_array(X, accept_sparse=accept_sparse,\n",
      "  File \"/home/muhammad/.cache/pypoetry/virtualenvs/fraud-creditcard-ml-ansh3wJ6-py3.8/lib/python3.8/site-packages/sklearn/utils/validation.py\", line 63, in inner_f\n",
      "    return f(*args, **kwargs)\n",
      "  File \"/home/muhammad/.cache/pypoetry/virtualenvs/fraud-creditcard-ml-ansh3wJ6-py3.8/lib/python3.8/site-packages/sklearn/utils/validation.py\", line 616, in check_array\n",
      "    array = np.asarray(array, order=order, dtype=dtype)\n",
      "  File \"/home/muhammad/.cache/pypoetry/virtualenvs/fraud-creditcard-ml-ansh3wJ6-py3.8/lib/python3.8/site-packages/numpy/core/_asarray.py\", line 83, in asarray\n",
      "    return array(a, dtype, copy=False, order=order)\n",
      "  File \"/home/muhammad/.cache/pypoetry/virtualenvs/fraud-creditcard-ml-ansh3wJ6-py3.8/lib/python3.8/site-packages/pandas/core/generic.py\", line 1781, in __array__\n",
      "    return np.asarray(self._values, dtype=dtype)\n",
      "  File \"/home/muhammad/.cache/pypoetry/virtualenvs/fraud-creditcard-ml-ansh3wJ6-py3.8/lib/python3.8/site-packages/numpy/core/_asarray.py\", line 83, in asarray\n",
      "    return array(a, dtype, copy=False, order=order)\n",
      "ValueError: could not convert string to float: '2020-01-01'\n",
      "\n",
      "  warnings.warn(\"Estimator fit failed. The score on this train-test\"\n",
      "/home/muhammad/.cache/pypoetry/virtualenvs/fraud-creditcard-ml-ansh3wJ6-py3.8/lib/python3.8/site-packages/sklearn/model_selection/_validation.py:610: FitFailedWarning: Estimator fit failed. The score on this train-test partition for these parameters will be set to nan. Details: \n",
      "Traceback (most recent call last):\n",
      "  File \"/home/muhammad/.cache/pypoetry/virtualenvs/fraud-creditcard-ml-ansh3wJ6-py3.8/lib/python3.8/site-packages/sklearn/model_selection/_validation.py\", line 593, in _fit_and_score\n",
      "    estimator.fit(X_train, y_train, **fit_params)\n",
      "  File \"/home/muhammad/.cache/pypoetry/virtualenvs/fraud-creditcard-ml-ansh3wJ6-py3.8/lib/python3.8/site-packages/sklearn/naive_bayes.py\", line 207, in fit\n",
      "    X, y = self._validate_data(X, y)\n",
      "  File \"/home/muhammad/.cache/pypoetry/virtualenvs/fraud-creditcard-ml-ansh3wJ6-py3.8/lib/python3.8/site-packages/sklearn/base.py\", line 433, in _validate_data\n",
      "    X, y = check_X_y(X, y, **check_params)\n",
      "  File \"/home/muhammad/.cache/pypoetry/virtualenvs/fraud-creditcard-ml-ansh3wJ6-py3.8/lib/python3.8/site-packages/sklearn/utils/validation.py\", line 63, in inner_f\n",
      "    return f(*args, **kwargs)\n",
      "  File \"/home/muhammad/.cache/pypoetry/virtualenvs/fraud-creditcard-ml-ansh3wJ6-py3.8/lib/python3.8/site-packages/sklearn/utils/validation.py\", line 814, in check_X_y\n",
      "    X = check_array(X, accept_sparse=accept_sparse,\n",
      "  File \"/home/muhammad/.cache/pypoetry/virtualenvs/fraud-creditcard-ml-ansh3wJ6-py3.8/lib/python3.8/site-packages/sklearn/utils/validation.py\", line 63, in inner_f\n",
      "    return f(*args, **kwargs)\n",
      "  File \"/home/muhammad/.cache/pypoetry/virtualenvs/fraud-creditcard-ml-ansh3wJ6-py3.8/lib/python3.8/site-packages/sklearn/utils/validation.py\", line 616, in check_array\n",
      "    array = np.asarray(array, order=order, dtype=dtype)\n",
      "  File \"/home/muhammad/.cache/pypoetry/virtualenvs/fraud-creditcard-ml-ansh3wJ6-py3.8/lib/python3.8/site-packages/numpy/core/_asarray.py\", line 83, in asarray\n",
      "    return array(a, dtype, copy=False, order=order)\n",
      "  File \"/home/muhammad/.cache/pypoetry/virtualenvs/fraud-creditcard-ml-ansh3wJ6-py3.8/lib/python3.8/site-packages/pandas/core/generic.py\", line 1781, in __array__\n",
      "    return np.asarray(self._values, dtype=dtype)\n",
      "  File \"/home/muhammad/.cache/pypoetry/virtualenvs/fraud-creditcard-ml-ansh3wJ6-py3.8/lib/python3.8/site-packages/numpy/core/_asarray.py\", line 83, in asarray\n",
      "    return array(a, dtype, copy=False, order=order)\n",
      "ValueError: could not convert string to float: '2020-01-01'\n",
      "\n",
      "  warnings.warn(\"Estimator fit failed. The score on this train-test\"\n"
     ]
    },
    {
     "name": "stdout",
     "output_type": "stream",
     "text": [
      "GaussianNB              AUC: nan STD: nan\n"
     ]
    },
    {
     "name": "stderr",
     "output_type": "stream",
     "text": [
      "/home/muhammad/.cache/pypoetry/virtualenvs/fraud-creditcard-ml-ansh3wJ6-py3.8/lib/python3.8/site-packages/sklearn/model_selection/_validation.py:610: FitFailedWarning: Estimator fit failed. The score on this train-test partition for these parameters will be set to nan. Details: \n",
      "Traceback (most recent call last):\n",
      "  File \"/home/muhammad/.cache/pypoetry/virtualenvs/fraud-creditcard-ml-ansh3wJ6-py3.8/lib/python3.8/site-packages/sklearn/model_selection/_validation.py\", line 593, in _fit_and_score\n",
      "    estimator.fit(X_train, y_train, **fit_params)\n",
      "  File \"/home/muhammad/.cache/pypoetry/virtualenvs/fraud-creditcard-ml-ansh3wJ6-py3.8/lib/python3.8/site-packages/sklearn/svm/_base.py\", line 169, in fit\n",
      "    X, y = self._validate_data(X, y, dtype=np.float64,\n",
      "  File \"/home/muhammad/.cache/pypoetry/virtualenvs/fraud-creditcard-ml-ansh3wJ6-py3.8/lib/python3.8/site-packages/sklearn/base.py\", line 433, in _validate_data\n",
      "    X, y = check_X_y(X, y, **check_params)\n",
      "  File \"/home/muhammad/.cache/pypoetry/virtualenvs/fraud-creditcard-ml-ansh3wJ6-py3.8/lib/python3.8/site-packages/sklearn/utils/validation.py\", line 63, in inner_f\n",
      "    return f(*args, **kwargs)\n",
      "  File \"/home/muhammad/.cache/pypoetry/virtualenvs/fraud-creditcard-ml-ansh3wJ6-py3.8/lib/python3.8/site-packages/sklearn/utils/validation.py\", line 814, in check_X_y\n",
      "    X = check_array(X, accept_sparse=accept_sparse,\n",
      "  File \"/home/muhammad/.cache/pypoetry/virtualenvs/fraud-creditcard-ml-ansh3wJ6-py3.8/lib/python3.8/site-packages/sklearn/utils/validation.py\", line 63, in inner_f\n",
      "    return f(*args, **kwargs)\n",
      "  File \"/home/muhammad/.cache/pypoetry/virtualenvs/fraud-creditcard-ml-ansh3wJ6-py3.8/lib/python3.8/site-packages/sklearn/utils/validation.py\", line 616, in check_array\n",
      "    array = np.asarray(array, order=order, dtype=dtype)\n",
      "  File \"/home/muhammad/.cache/pypoetry/virtualenvs/fraud-creditcard-ml-ansh3wJ6-py3.8/lib/python3.8/site-packages/numpy/core/_asarray.py\", line 83, in asarray\n",
      "    return array(a, dtype, copy=False, order=order)\n",
      "  File \"/home/muhammad/.cache/pypoetry/virtualenvs/fraud-creditcard-ml-ansh3wJ6-py3.8/lib/python3.8/site-packages/pandas/core/generic.py\", line 1781, in __array__\n",
      "    return np.asarray(self._values, dtype=dtype)\n",
      "  File \"/home/muhammad/.cache/pypoetry/virtualenvs/fraud-creditcard-ml-ansh3wJ6-py3.8/lib/python3.8/site-packages/numpy/core/_asarray.py\", line 83, in asarray\n",
      "    return array(a, dtype, copy=False, order=order)\n",
      "ValueError: could not convert string to float: '2020-01-01'\n",
      "\n",
      "  warnings.warn(\"Estimator fit failed. The score on this train-test\"\n",
      "/home/muhammad/.cache/pypoetry/virtualenvs/fraud-creditcard-ml-ansh3wJ6-py3.8/lib/python3.8/site-packages/sklearn/model_selection/_validation.py:610: FitFailedWarning: Estimator fit failed. The score on this train-test partition for these parameters will be set to nan. Details: \n",
      "Traceback (most recent call last):\n",
      "  File \"/home/muhammad/.cache/pypoetry/virtualenvs/fraud-creditcard-ml-ansh3wJ6-py3.8/lib/python3.8/site-packages/sklearn/model_selection/_validation.py\", line 593, in _fit_and_score\n",
      "    estimator.fit(X_train, y_train, **fit_params)\n",
      "  File \"/home/muhammad/.cache/pypoetry/virtualenvs/fraud-creditcard-ml-ansh3wJ6-py3.8/lib/python3.8/site-packages/sklearn/svm/_base.py\", line 169, in fit\n",
      "    X, y = self._validate_data(X, y, dtype=np.float64,\n",
      "  File \"/home/muhammad/.cache/pypoetry/virtualenvs/fraud-creditcard-ml-ansh3wJ6-py3.8/lib/python3.8/site-packages/sklearn/base.py\", line 433, in _validate_data\n",
      "    X, y = check_X_y(X, y, **check_params)\n",
      "  File \"/home/muhammad/.cache/pypoetry/virtualenvs/fraud-creditcard-ml-ansh3wJ6-py3.8/lib/python3.8/site-packages/sklearn/utils/validation.py\", line 63, in inner_f\n",
      "    return f(*args, **kwargs)\n",
      "  File \"/home/muhammad/.cache/pypoetry/virtualenvs/fraud-creditcard-ml-ansh3wJ6-py3.8/lib/python3.8/site-packages/sklearn/utils/validation.py\", line 814, in check_X_y\n",
      "    X = check_array(X, accept_sparse=accept_sparse,\n",
      "  File \"/home/muhammad/.cache/pypoetry/virtualenvs/fraud-creditcard-ml-ansh3wJ6-py3.8/lib/python3.8/site-packages/sklearn/utils/validation.py\", line 63, in inner_f\n",
      "    return f(*args, **kwargs)\n",
      "  File \"/home/muhammad/.cache/pypoetry/virtualenvs/fraud-creditcard-ml-ansh3wJ6-py3.8/lib/python3.8/site-packages/sklearn/utils/validation.py\", line 616, in check_array\n",
      "    array = np.asarray(array, order=order, dtype=dtype)\n",
      "  File \"/home/muhammad/.cache/pypoetry/virtualenvs/fraud-creditcard-ml-ansh3wJ6-py3.8/lib/python3.8/site-packages/numpy/core/_asarray.py\", line 83, in asarray\n",
      "    return array(a, dtype, copy=False, order=order)\n",
      "  File \"/home/muhammad/.cache/pypoetry/virtualenvs/fraud-creditcard-ml-ansh3wJ6-py3.8/lib/python3.8/site-packages/pandas/core/generic.py\", line 1781, in __array__\n",
      "    return np.asarray(self._values, dtype=dtype)\n",
      "  File \"/home/muhammad/.cache/pypoetry/virtualenvs/fraud-creditcard-ml-ansh3wJ6-py3.8/lib/python3.8/site-packages/numpy/core/_asarray.py\", line 83, in asarray\n",
      "    return array(a, dtype, copy=False, order=order)\n",
      "ValueError: could not convert string to float: '2020-01-01'\n",
      "\n",
      "  warnings.warn(\"Estimator fit failed. The score on this train-test\"\n"
     ]
    },
    {
     "name": "stdout",
     "output_type": "stream",
     "text": [
      "SVC                     AUC: nan STD: nan\n",
      "RandomForestClassifier  AUC: nan STD: nan\n"
     ]
    },
    {
     "name": "stderr",
     "output_type": "stream",
     "text": [
      "/home/muhammad/.cache/pypoetry/virtualenvs/fraud-creditcard-ml-ansh3wJ6-py3.8/lib/python3.8/site-packages/sklearn/model_selection/_validation.py:610: FitFailedWarning: Estimator fit failed. The score on this train-test partition for these parameters will be set to nan. Details: \n",
      "Traceback (most recent call last):\n",
      "  File \"/home/muhammad/.cache/pypoetry/virtualenvs/fraud-creditcard-ml-ansh3wJ6-py3.8/lib/python3.8/site-packages/sklearn/model_selection/_validation.py\", line 593, in _fit_and_score\n",
      "    estimator.fit(X_train, y_train, **fit_params)\n",
      "  File \"/home/muhammad/.cache/pypoetry/virtualenvs/fraud-creditcard-ml-ansh3wJ6-py3.8/lib/python3.8/site-packages/sklearn/ensemble/_forest.py\", line 304, in fit\n",
      "    X, y = self._validate_data(X, y, multi_output=True,\n",
      "  File \"/home/muhammad/.cache/pypoetry/virtualenvs/fraud-creditcard-ml-ansh3wJ6-py3.8/lib/python3.8/site-packages/sklearn/base.py\", line 433, in _validate_data\n",
      "    X, y = check_X_y(X, y, **check_params)\n",
      "  File \"/home/muhammad/.cache/pypoetry/virtualenvs/fraud-creditcard-ml-ansh3wJ6-py3.8/lib/python3.8/site-packages/sklearn/utils/validation.py\", line 63, in inner_f\n",
      "    return f(*args, **kwargs)\n",
      "  File \"/home/muhammad/.cache/pypoetry/virtualenvs/fraud-creditcard-ml-ansh3wJ6-py3.8/lib/python3.8/site-packages/sklearn/utils/validation.py\", line 814, in check_X_y\n",
      "    X = check_array(X, accept_sparse=accept_sparse,\n",
      "  File \"/home/muhammad/.cache/pypoetry/virtualenvs/fraud-creditcard-ml-ansh3wJ6-py3.8/lib/python3.8/site-packages/sklearn/utils/validation.py\", line 63, in inner_f\n",
      "    return f(*args, **kwargs)\n",
      "  File \"/home/muhammad/.cache/pypoetry/virtualenvs/fraud-creditcard-ml-ansh3wJ6-py3.8/lib/python3.8/site-packages/sklearn/utils/validation.py\", line 616, in check_array\n",
      "    array = np.asarray(array, order=order, dtype=dtype)\n",
      "  File \"/home/muhammad/.cache/pypoetry/virtualenvs/fraud-creditcard-ml-ansh3wJ6-py3.8/lib/python3.8/site-packages/numpy/core/_asarray.py\", line 83, in asarray\n",
      "    return array(a, dtype, copy=False, order=order)\n",
      "  File \"/home/muhammad/.cache/pypoetry/virtualenvs/fraud-creditcard-ml-ansh3wJ6-py3.8/lib/python3.8/site-packages/pandas/core/generic.py\", line 1781, in __array__\n",
      "    return np.asarray(self._values, dtype=dtype)\n",
      "  File \"/home/muhammad/.cache/pypoetry/virtualenvs/fraud-creditcard-ml-ansh3wJ6-py3.8/lib/python3.8/site-packages/numpy/core/_asarray.py\", line 83, in asarray\n",
      "    return array(a, dtype, copy=False, order=order)\n",
      "ValueError: could not convert string to float: '2020-01-01'\n",
      "\n",
      "  warnings.warn(\"Estimator fit failed. The score on this train-test\"\n",
      "/home/muhammad/.cache/pypoetry/virtualenvs/fraud-creditcard-ml-ansh3wJ6-py3.8/lib/python3.8/site-packages/sklearn/model_selection/_validation.py:610: FitFailedWarning: Estimator fit failed. The score on this train-test partition for these parameters will be set to nan. Details: \n",
      "Traceback (most recent call last):\n",
      "  File \"/home/muhammad/.cache/pypoetry/virtualenvs/fraud-creditcard-ml-ansh3wJ6-py3.8/lib/python3.8/site-packages/sklearn/model_selection/_validation.py\", line 593, in _fit_and_score\n",
      "    estimator.fit(X_train, y_train, **fit_params)\n",
      "  File \"/home/muhammad/.cache/pypoetry/virtualenvs/fraud-creditcard-ml-ansh3wJ6-py3.8/lib/python3.8/site-packages/sklearn/ensemble/_forest.py\", line 304, in fit\n",
      "    X, y = self._validate_data(X, y, multi_output=True,\n",
      "  File \"/home/muhammad/.cache/pypoetry/virtualenvs/fraud-creditcard-ml-ansh3wJ6-py3.8/lib/python3.8/site-packages/sklearn/base.py\", line 433, in _validate_data\n",
      "    X, y = check_X_y(X, y, **check_params)\n",
      "  File \"/home/muhammad/.cache/pypoetry/virtualenvs/fraud-creditcard-ml-ansh3wJ6-py3.8/lib/python3.8/site-packages/sklearn/utils/validation.py\", line 63, in inner_f\n",
      "    return f(*args, **kwargs)\n",
      "  File \"/home/muhammad/.cache/pypoetry/virtualenvs/fraud-creditcard-ml-ansh3wJ6-py3.8/lib/python3.8/site-packages/sklearn/utils/validation.py\", line 814, in check_X_y\n",
      "    X = check_array(X, accept_sparse=accept_sparse,\n",
      "  File \"/home/muhammad/.cache/pypoetry/virtualenvs/fraud-creditcard-ml-ansh3wJ6-py3.8/lib/python3.8/site-packages/sklearn/utils/validation.py\", line 63, in inner_f\n",
      "    return f(*args, **kwargs)\n",
      "  File \"/home/muhammad/.cache/pypoetry/virtualenvs/fraud-creditcard-ml-ansh3wJ6-py3.8/lib/python3.8/site-packages/sklearn/utils/validation.py\", line 616, in check_array\n",
      "    array = np.asarray(array, order=order, dtype=dtype)\n",
      "  File \"/home/muhammad/.cache/pypoetry/virtualenvs/fraud-creditcard-ml-ansh3wJ6-py3.8/lib/python3.8/site-packages/numpy/core/_asarray.py\", line 83, in asarray\n",
      "    return array(a, dtype, copy=False, order=order)\n",
      "  File \"/home/muhammad/.cache/pypoetry/virtualenvs/fraud-creditcard-ml-ansh3wJ6-py3.8/lib/python3.8/site-packages/pandas/core/generic.py\", line 1781, in __array__\n",
      "    return np.asarray(self._values, dtype=dtype)\n",
      "  File \"/home/muhammad/.cache/pypoetry/virtualenvs/fraud-creditcard-ml-ansh3wJ6-py3.8/lib/python3.8/site-packages/numpy/core/_asarray.py\", line 83, in asarray\n",
      "    return array(a, dtype, copy=False, order=order)\n",
      "ValueError: could not convert string to float: '2020-01-01'\n",
      "\n",
      "  warnings.warn(\"Estimator fit failed. The score on this train-test\"\n"
     ]
    }
   ],
   "source": [
    "from sklearn import model_selection\n",
    "from sklearn.dummy import DummyClassifier\n",
    "from sklearn.linear_model import LogisticRegression\n",
    "from sklearn.tree import DecisionTreeClassifier\n",
    "from sklearn.neighbors import KNeighborsClassifier\n",
    "from sklearn.naive_bayes import GaussianNB\n",
    "from sklearn.svm import SVC\n",
    "from sklearn.ensemble import RandomForestClassifier\n",
    "\n",
    "\n",
    "for model in [\n",
    "    DummyClassifier,\n",
    "    LogisticRegression,\n",
    "    DecisionTreeClassifier,\n",
    "    KNeighborsClassifier,\n",
    "    GaussianNB,\n",
    "    SVC,\n",
    "    RandomForestClassifier\n",
    "]:\n",
    "    cls = model()\n",
    "    kfold = model_selection.KFold(n_splits=2, random_state=28, shuffle=True)\n",
    "    cvs = model_selection.cross_val_score(\n",
    "        cls, X, y, scoring=\"roc_auc\", cv=kfold\n",
    "    )\n",
    "    print(\n",
    "        f\"{model.__name__:22}  AUC: \"\n",
    "        f\"{cvs.mean():.3f} STD: {cvs.std():.2f}\"\n",
    "    )"
   ]
  },
  {
   "cell_type": "code",
   "execution_count": null,
   "metadata": {},
   "outputs": [],
   "source": []
  },
  {
   "cell_type": "code",
   "execution_count": null,
   "metadata": {},
   "outputs": [],
   "source": []
  },
  {
   "cell_type": "code",
   "execution_count": 4,
   "metadata": {},
   "outputs": [],
   "source": []
  },
  {
   "cell_type": "code",
   "execution_count": null,
   "metadata": {},
   "outputs": [],
   "source": []
  }
 ],
 "metadata": {
  "kernelspec": {
   "display_name": "Python 3",
   "language": "python",
   "name": "python3"
  },
  "language_info": {
   "codemirror_mode": {
    "name": "ipython",
    "version": 3
   },
   "file_extension": ".py",
   "mimetype": "text/x-python",
   "name": "python",
   "nbconvert_exporter": "python",
   "pygments_lexer": "ipython3",
   "version": "3.7.3"
  }
 },
 "nbformat": 4,
 "nbformat_minor": 4
}
