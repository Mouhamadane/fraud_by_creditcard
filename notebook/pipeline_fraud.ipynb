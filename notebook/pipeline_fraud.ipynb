{
 "cells": [
  {
   "cell_type": "code",
   "execution_count": 25,
   "metadata": {},
   "outputs": [
    {
     "data": {
      "text/html": [
       "<div>\n",
       "<style scoped>\n",
       "    .dataframe tbody tr th:only-of-type {\n",
       "        vertical-align: middle;\n",
       "    }\n",
       "\n",
       "    .dataframe tbody tr th {\n",
       "        vertical-align: top;\n",
       "    }\n",
       "\n",
       "    .dataframe thead th {\n",
       "        text-align: right;\n",
       "    }\n",
       "</style>\n",
       "<table border=\"1\" class=\"dataframe\">\n",
       "  <thead>\n",
       "    <tr style=\"text-align: right;\">\n",
       "      <th></th>\n",
       "      <th>step</th>\n",
       "      <th>customer</th>\n",
       "      <th>age</th>\n",
       "      <th>gender</th>\n",
       "      <th>zipcodeOri</th>\n",
       "      <th>merchant</th>\n",
       "      <th>zipMerchant</th>\n",
       "      <th>category</th>\n",
       "      <th>amount</th>\n",
       "      <th>fraud</th>\n",
       "    </tr>\n",
       "  </thead>\n",
       "  <tbody>\n",
       "    <tr>\n",
       "      <th>0</th>\n",
       "      <td>0</td>\n",
       "      <td>1093826151</td>\n",
       "      <td>4</td>\n",
       "      <td>M</td>\n",
       "      <td>'28007'</td>\n",
       "      <td>348934600</td>\n",
       "      <td>'28007'</td>\n",
       "      <td>transportation</td>\n",
       "      <td>4.55</td>\n",
       "      <td>0</td>\n",
       "    </tr>\n",
       "    <tr>\n",
       "      <th>1</th>\n",
       "      <td>0</td>\n",
       "      <td>352968107</td>\n",
       "      <td>2</td>\n",
       "      <td>M</td>\n",
       "      <td>'28007'</td>\n",
       "      <td>348934600</td>\n",
       "      <td>'28007'</td>\n",
       "      <td>transportation</td>\n",
       "      <td>39.68</td>\n",
       "      <td>0</td>\n",
       "    </tr>\n",
       "    <tr>\n",
       "      <th>2</th>\n",
       "      <td>0</td>\n",
       "      <td>2054744914</td>\n",
       "      <td>4</td>\n",
       "      <td>F</td>\n",
       "      <td>'28007'</td>\n",
       "      <td>1823072687</td>\n",
       "      <td>'28007'</td>\n",
       "      <td>transportation</td>\n",
       "      <td>26.89</td>\n",
       "      <td>0</td>\n",
       "    </tr>\n",
       "  </tbody>\n",
       "</table>\n",
       "</div>"
      ],
      "text/plain": [
       "   step    customer age gender zipcodeOri    merchant zipMerchant  \\\n",
       "0     0  1093826151   4      M    '28007'   348934600     '28007'   \n",
       "1     0   352968107   2      M    '28007'   348934600     '28007'   \n",
       "2     0  2054744914   4      F    '28007'  1823072687     '28007'   \n",
       "\n",
       "         category  amount  fraud  \n",
       "0  transportation    4.55      0  \n",
       "1  transportation   39.68      0  \n",
       "2  transportation   26.89      0  "
      ]
     },
     "execution_count": 25,
     "metadata": {},
     "output_type": "execute_result"
    }
   ],
   "source": [
    "import pandas as pd\n",
    "from creditcard_mod import helpers\n",
    "import matplotlib.pyplot as plt\n",
    "import seaborn as sns\n",
    "import numpy as np\n",
    "from sklearn.preprocessing import LabelEncoder\n",
    "from xgboost import XGBClassifier\n",
    "# ignorer les FuturWarnings\n",
    "import warnings\n",
    "warnings.simplefilter(action='ignore', category=FutureWarning)\n",
    "df = helpers.load_csv(\"../datasets/data.csv\")\n",
    "df.head(3)"
   ]
  },
  {
   "cell_type": "code",
   "execution_count": 13,
   "metadata": {},
   "outputs": [],
   "source": [
    "def make_mystep(df):\n",
    "    df['step'] = 1577836800 + df['step'] * 3600 * 24\n",
    "    df['step'] = pd.to_datetime(df['step'], unit='s')\n",
    "    return df"
   ]
  },
  {
   "cell_type": "code",
   "execution_count": 24,
   "metadata": {},
   "outputs": [
    {
     "data": {
      "text/html": [
       "<div>\n",
       "<style scoped>\n",
       "    .dataframe tbody tr th:only-of-type {\n",
       "        vertical-align: middle;\n",
       "    }\n",
       "\n",
       "    .dataframe tbody tr th {\n",
       "        vertical-align: top;\n",
       "    }\n",
       "\n",
       "    .dataframe thead th {\n",
       "        text-align: right;\n",
       "    }\n",
       "</style>\n",
       "<table border=\"1\" class=\"dataframe\">\n",
       "  <thead>\n",
       "    <tr style=\"text-align: right;\">\n",
       "      <th></th>\n",
       "      <th>step</th>\n",
       "      <th>customer</th>\n",
       "      <th>age</th>\n",
       "      <th>gender</th>\n",
       "      <th>zipcodeOri</th>\n",
       "      <th>merchant</th>\n",
       "      <th>zipMerchant</th>\n",
       "      <th>category</th>\n",
       "      <th>amount</th>\n",
       "      <th>fraud</th>\n",
       "    </tr>\n",
       "  </thead>\n",
       "  <tbody>\n",
       "    <tr>\n",
       "      <th>0</th>\n",
       "      <td>2020-01-01</td>\n",
       "      <td>1093826151</td>\n",
       "      <td>4</td>\n",
       "      <td>M</td>\n",
       "      <td>'28007'</td>\n",
       "      <td>348934600</td>\n",
       "      <td>'28007'</td>\n",
       "      <td>transportation</td>\n",
       "      <td>4.55</td>\n",
       "      <td>0</td>\n",
       "    </tr>\n",
       "    <tr>\n",
       "      <th>1</th>\n",
       "      <td>2020-01-01</td>\n",
       "      <td>352968107</td>\n",
       "      <td>2</td>\n",
       "      <td>M</td>\n",
       "      <td>'28007'</td>\n",
       "      <td>348934600</td>\n",
       "      <td>'28007'</td>\n",
       "      <td>transportation</td>\n",
       "      <td>39.68</td>\n",
       "      <td>0</td>\n",
       "    </tr>\n",
       "    <tr>\n",
       "      <th>2</th>\n",
       "      <td>2020-01-01</td>\n",
       "      <td>2054744914</td>\n",
       "      <td>4</td>\n",
       "      <td>F</td>\n",
       "      <td>'28007'</td>\n",
       "      <td>1823072687</td>\n",
       "      <td>'28007'</td>\n",
       "      <td>transportation</td>\n",
       "      <td>26.89</td>\n",
       "      <td>0</td>\n",
       "    </tr>\n",
       "    <tr>\n",
       "      <th>3</th>\n",
       "      <td>2020-01-01</td>\n",
       "      <td>1760612790</td>\n",
       "      <td>3</td>\n",
       "      <td>M</td>\n",
       "      <td>'28007'</td>\n",
       "      <td>348934600</td>\n",
       "      <td>'28007'</td>\n",
       "      <td>transportation</td>\n",
       "      <td>17.25</td>\n",
       "      <td>0</td>\n",
       "    </tr>\n",
       "    <tr>\n",
       "      <th>4</th>\n",
       "      <td>2020-01-01</td>\n",
       "      <td>757503768</td>\n",
       "      <td>5</td>\n",
       "      <td>M</td>\n",
       "      <td>'28007'</td>\n",
       "      <td>348934600</td>\n",
       "      <td>'28007'</td>\n",
       "      <td>transportation</td>\n",
       "      <td>35.72</td>\n",
       "      <td>0</td>\n",
       "    </tr>\n",
       "  </tbody>\n",
       "</table>\n",
       "</div>"
      ],
      "text/plain": [
       "        step    customer age gender zipcodeOri    merchant zipMerchant  \\\n",
       "0 2020-01-01  1093826151   4      M    '28007'   348934600     '28007'   \n",
       "1 2020-01-01   352968107   2      M    '28007'   348934600     '28007'   \n",
       "2 2020-01-01  2054744914   4      F    '28007'  1823072687     '28007'   \n",
       "3 2020-01-01  1760612790   3      M    '28007'   348934600     '28007'   \n",
       "4 2020-01-01   757503768   5      M    '28007'   348934600     '28007'   \n",
       "\n",
       "         category  amount  fraud  \n",
       "0  transportation    4.55      0  \n",
       "1  transportation   39.68      0  \n",
       "2  transportation   26.89      0  \n",
       "3  transportation   17.25      0  \n",
       "4  transportation   35.72      0  "
      ]
     },
     "execution_count": 24,
     "metadata": {},
     "output_type": "execute_result"
    }
   ],
   "source": [
    "test = make_mystep(df)\n",
    "test.head()"
   ]
  },
  {
   "cell_type": "code",
   "execution_count": 14,
   "metadata": {},
   "outputs": [],
   "source": [
    "def encoder(data):\n",
    "    cat_cols = ['age', 'gender', 'category']\n",
    "    enc = LabelEncoder()\n",
    "    for col in cat_cols:\n",
    "        data[col] = enc.fit_transform(data[col])\n",
    "    return data"
   ]
  },
  {
   "cell_type": "code",
   "execution_count": 15,
   "metadata": {},
   "outputs": [],
   "source": [
    "compute_features = {\n",
    "    \"nbre_trans_7jrs\": 7,\n",
    "    \"nbre_trans_15jrs\": 15,\n",
    "    \"nbre_trans_30jrs\": 30\n",
    "}\n",
    "compute_features_cm = {\n",
    "    \"count_cust_merch_1_day\":1,\n",
    "    \"count_cust_merch_7_day\":7,\n",
    "    \"count_cust_merch_15_day\":15\n",
    "}\n",
    "\n",
    "# Historique de transaction du client\n",
    "\n",
    "def create_transaction_customer_historic(data):\n",
    "    for key, value in compute_features.items():\n",
    "        temp = pd.Series(data.index, index = data.step, name=key).sort_index()\n",
    "        count_day = temp.rolling(str(value)+'d').count() -1\n",
    "        count_day.index = temp.values\n",
    "        data[key] = count_day.reindex(data.index)\n",
    "    return data\n",
    "\n",
    "# Historique de transaction du client sur un même marchant\n",
    "def create_transaction_customer_merchant_historic(data):\n",
    "    for key, value in compute_features_cm.items():\n",
    "        temp = pd.Series(data.index, index = data.step, name=key).sort_index()\n",
    "        count_day = temp.rolling(str(value)+'d').count() - 1\n",
    "        count_day.index = temp.values\n",
    "        data[key] = count_day.reindex(data.index)\n",
    "    return data"
   ]
  },
  {
   "cell_type": "code",
   "execution_count": 16,
   "metadata": {},
   "outputs": [],
   "source": [
    "def encoder(data):\n",
    "    cat_cols = ['age', 'gender', 'category']\n",
    "    enc = LabelEncoder()\n",
    "    for col in cat_cols:\n",
    "        data[col] = enc.fit_transform(data[col])\n",
    "    return data"
   ]
  },
  {
   "cell_type": "code",
   "execution_count": 17,
   "metadata": {},
   "outputs": [],
   "source": [
    "def pipeline_transform(data_init):\n",
    "    df = make_mystep(data_init)\n",
    "    df = df.groupby(['customer','merchant']).apply(create_transaction_customer_merchant_historic)\n",
    "    df = df.groupby('customer').apply(create_transaction_customer_historic)\n",
    "    df = df.drop(['customer','merchant','step'],axis=1)\n",
    "    df = encoder(df)\n",
    "    \n",
    "    return df\n",
    "    "
   ]
  },
  {
   "cell_type": "code",
   "execution_count": 6,
   "metadata": {},
   "outputs": [],
   "source": [
    "#data = pipeline_transform(df)\n",
    "#data.head()"
   ]
  },
  {
   "cell_type": "code",
   "execution_count": 18,
   "metadata": {},
   "outputs": [],
   "source": [
    "import pickle"
   ]
  },
  {
   "cell_type": "code",
   "execution_count": 19,
   "metadata": {},
   "outputs": [],
   "source": [
    "def predict(config, model):\n",
    "    if type(config) == dict:\n",
    "        df = pd.DataFrame(config)\n",
    "    else:\n",
    "        df = config\n",
    "    data = pipeline_transform(df)\n",
    "    y_pred = model.predict(data)\n",
    "    return y_pred"
   ]
  },
  {
   "cell_type": "code",
   "execution_count": 4,
   "metadata": {},
   "outputs": [],
   "source": [
    "data = {\n",
    "    'step': 1,\n",
    "    'age':4,\n",
    "    'customer':\"1093826151\",\n",
    "    'gender':2,\n",
    "    'category':2,\n",
    "    'amount' : 245,\n",
    "    'merchant':\"348934600\"\n",
    "    \n",
    "}"
   ]
  },
  {
   "cell_type": "code",
   "execution_count": 21,
   "metadata": {},
   "outputs": [],
   "source": [
    "with open('classifier.pkl', 'rb') as file:\n",
    "        classifier = pickle.load(file)\n",
    "        file.close()\n",
    "prediction = predict(data, classifier)"
   ]
  },
  {
   "cell_type": "code",
   "execution_count": null,
   "metadata": {},
   "outputs": [],
   "source": []
  },
  {
   "cell_type": "code",
   "execution_count": null,
   "metadata": {},
   "outputs": [],
   "source": []
  },
  {
   "cell_type": "code",
   "execution_count": 5,
   "metadata": {},
   "outputs": [
    {
     "name": "stdout",
     "output_type": "stream",
     "text": [
      "{\n",
      "  \"fraud\": 1\n",
      "}\n",
      "\n"
     ]
    }
   ],
   "source": [
    "import requests\n",
    "url = \"http://127.0.0.1:5000/Prediction/pred\"\n",
    "result = requests.post(url, json=data)\n",
    "print(result.text)"
   ]
  },
  {
   "cell_type": "code",
   "execution_count": null,
   "metadata": {},
   "outputs": [],
   "source": []
  },
  {
   "cell_type": "code",
   "execution_count": null,
   "metadata": {},
   "outputs": [],
   "source": []
  }
 ],
 "metadata": {
  "kernelspec": {
   "display_name": "Python 3",
   "language": "python",
   "name": "python3"
  },
  "language_info": {
   "codemirror_mode": {
    "name": "ipython",
    "version": 3
   },
   "file_extension": ".py",
   "mimetype": "text/x-python",
   "name": "python",
   "nbconvert_exporter": "python",
   "pygments_lexer": "ipython3",
   "version": "3.8.5"
  }
 },
 "nbformat": 4,
 "nbformat_minor": 4
}
